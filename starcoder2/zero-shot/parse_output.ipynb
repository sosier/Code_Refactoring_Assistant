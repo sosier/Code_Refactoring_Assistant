{
 "cells": [
  {
   "cell_type": "code",
   "execution_count": 3,
   "metadata": {},
   "outputs": [],
   "source": [
    "import csv\n",
    "\n",
    "csv_file_path = 'humaneval_parsed.csv'\n",
    "humaneval_output_values = []\n",
    "with open(csv_file_path, 'r') as file:\n",
    "    csv_reader = csv.DictReader(file)\n",
    "    for row in csv_reader:\n",
    "        humaneval_output_values.append(row['output'])\n",
    "\n",
    "def extract_after_substring(full_string, substring):\n",
    "    index = full_string.find(substring)\n",
    "    if index != -1:\n",
    "        return full_string[index + len(substring):]\n",
    "    else:\n",
    "        return \"\"\n",
    "\n",
    "def extract_between_markers(full_string, start_marker, end_marker):\n",
    "    start_index = full_string.find(start_marker)\n",
    "    end_index = full_string.find(end_marker, start_index + len(start_marker))\n",
    "    if start_index != -1 and end_index != -1:\n",
    "        return full_string[start_index + len(start_marker):end_index].strip()\n",
    "    else:\n",
    "        return \"\"\n",
    "\n",
    "def extract_python_code(full_string):\n",
    "    extracted_string = extract_after_substring(full_string, \"### Response\")\n",
    "    return extract_between_markers(extracted_string, \"```python\", \"```\")\n"
   ]
  },
  {
   "cell_type": "code",
   "execution_count": null,
   "metadata": {},
   "outputs": [],
   "source": [
    "humaneval_snippets=[]\n",
    "for i in humaneval_output_values:\n",
    "  humaneval_snippets.append(extract_after_substring(i, \"### Response\"))"
   ]
  }
 ],
 "metadata": {
  "kernelspec": {
   "display_name": "Python 3",
   "language": "python",
   "name": "python3"
  },
  "language_info": {
   "codemirror_mode": {
    "name": "ipython",
    "version": 3
   },
   "file_extension": ".py",
   "mimetype": "text/x-python",
   "name": "python",
   "nbconvert_exporter": "python",
   "pygments_lexer": "ipython3",
   "version": "3.11.0"
  },
  "orig_nbformat": 4,
  "vscode": {
   "interpreter": {
    "hash": "aee8b7b246df8f9039afb4144a1f6fd8d2ca17a180786b69acc140d282b71a49"
   }
  }
 },
 "nbformat": 4,
 "nbformat_minor": 2
}

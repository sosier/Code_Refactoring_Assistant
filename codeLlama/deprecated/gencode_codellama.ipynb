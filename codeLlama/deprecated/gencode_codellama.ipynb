{
  "cells": [
    {
      "cell_type": "markdown",
      "metadata": {
        "id": "FcKJlcCkN192"
      },
      "source": [
        "# Prelims\n"
      ]
    },
    {
      "cell_type": "code",
      "execution_count": null,
      "metadata": {
        "id": "s4bCwyKuKsaR"
      },
      "outputs": [],
      "source": [
        "!pip install -U accelerate bitsandbytes datasets peft transformers\n"
      ]
    },
    {
      "cell_type": "code",
      "execution_count": null,
      "metadata": {
        "id": "td4KOJ4kKbKo"
      },
      "outputs": [],
      "source": [
        "import torch\n",
        "from transformers import (\n",
        "    TrainingArguments,\n",
        "    Trainer,\n",
        "    ResNetModel,\n",
        "    AutoTokenizer,\n",
        "    AutoModelForCausalLM,\n",
        "    BitsAndBytesConfig,\n",
        "    CodeLlamaTokenizer\n",
        ")\n",
        "from peft import (\n",
        "    LoraConfig,\n",
        "    get_peft_model,\n",
        "    get_peft_model_state_dict,\n",
        "    prepare_model_for_kbit_training,\n",
        "    set_peft_model_state_dict,\n",
        ")\n",
        "import accelerate\n",
        "import bitsandbytes\n",
        "from transformers.modeling_outputs import SequenceClassifierOutput\n",
        "import json\n",
        "import time\n",
        "\n",
        "from datasets import load_dataset"
      ]
    },
    {
      "cell_type": "code",
      "execution_count": null,
      "metadata": {
        "id": "HceJ_2mhnxGJ"
      },
      "outputs": [],
      "source": [
        "print(torch.cuda.is_available())"
      ]
    },
    {
      "cell_type": "code",
      "execution_count": null,
      "metadata": {
        "id": "Mvxc0bLcV8uw"
      },
      "outputs": [],
      "source": [
        "mbpp = load_dataset(\"mbpp\")  # train, validation, and test\n",
        "humaneval = load_dataset(\"openai_humaneval\")  # test only"
      ]
    },
    {
      "cell_type": "code",
      "execution_count": null,
      "metadata": {
        "id": "wvPdiiHeKg2X"
      },
      "outputs": [],
      "source": [
        "for key, value in mbpp[\"test\"][0].items():\n",
        "  print(key,value, '\\n')\n",
        "\n",
        "print(len(mbpp['test']))"
      ]
    },
    {
      "cell_type": "code",
      "execution_count": null,
      "metadata": {
        "id": "EmeQQPI_LBrg",
        "colab": {
          "base_uri": "https://localhost:8080/",
          "height": 176
        },
        "outputId": "03277fe0-da21-4eed-aedc-fa9b12ac21b9"
      },
      "outputs": [
        {
          "output_type": "error",
          "ename": "NameError",
          "evalue": "name 'humaneval' is not defined",
          "traceback": [
            "\u001b[0;31m---------------------------------------------------------------------------\u001b[0m",
            "\u001b[0;31mNameError\u001b[0m                                 Traceback (most recent call last)",
            "\u001b[0;32m<ipython-input-1-efb97bddca74>\u001b[0m in \u001b[0;36m<cell line: 1>\u001b[0;34m()\u001b[0m\n\u001b[0;32m----> 1\u001b[0;31m \u001b[0mprint\u001b[0m\u001b[0;34m(\u001b[0m\u001b[0mhumaneval\u001b[0m\u001b[0;34m)\u001b[0m\u001b[0;34m\u001b[0m\u001b[0;34m\u001b[0m\u001b[0m\n\u001b[0m\u001b[1;32m      2\u001b[0m \u001b[0mprint\u001b[0m\u001b[0;34m(\u001b[0m\u001b[0mhumaneval\u001b[0m\u001b[0;34m[\u001b[0m\u001b[0;34m'test'\u001b[0m\u001b[0;34m]\u001b[0m\u001b[0;34m[\u001b[0m\u001b[0;34m'canonical_solution'\u001b[0m\u001b[0;34m]\u001b[0m\u001b[0;34m[\u001b[0m\u001b[0;36m0\u001b[0m\u001b[0;34m]\u001b[0m\u001b[0;34m)\u001b[0m\u001b[0;34m\u001b[0m\u001b[0;34m\u001b[0m\u001b[0m\n\u001b[1;32m      3\u001b[0m \u001b[0mprint\u001b[0m\u001b[0;34m(\u001b[0m\u001b[0mhumaneval\u001b[0m\u001b[0;34m[\u001b[0m\u001b[0;34m'test'\u001b[0m\u001b[0;34m]\u001b[0m\u001b[0;34m[\u001b[0m\u001b[0;34m'prompt'\u001b[0m\u001b[0;34m]\u001b[0m\u001b[0;34m[\u001b[0m\u001b[0;36m0\u001b[0m\u001b[0;34m]\u001b[0m\u001b[0;34m)\u001b[0m\u001b[0;34m\u001b[0m\u001b[0;34m\u001b[0m\u001b[0m\n",
            "\u001b[0;31mNameError\u001b[0m: name 'humaneval' is not defined"
          ]
        }
      ],
      "source": [
        "\n",
        "print(humaneval)\n",
        "print(humaneval['test']['canonical_solution'][0])\n",
        "print(humaneval['test']['prompt'][0])\n"
      ]
    },
    {
      "cell_type": "markdown",
      "source": [
        "# Simple Modelling"
      ],
      "metadata": {
        "id": "__597K7LKa-C"
      }
    },
    {
      "cell_type": "code",
      "source": [
        "system_instruction  = \"Refactor the given Python program to a more readable, efficient, and maintainable one. You can assume that the given program is semantically correct. Do not change the external behavior of the program, and keep the syntactic and semantic correctness. Python programs should be in a code block. Do not explain anything in natural language.\""
      ],
      "metadata": {
        "id": "ShanAmWXnmZA"
      },
      "execution_count": null,
      "outputs": []
    },
    {
      "cell_type": "code",
      "source": [
        "model_id = \"codellama/CodeLlama-7b-Instruct-hf\"\n",
        "quantization_config = BitsAndBytesConfig(\n",
        "   load_in_4bit=True,\n",
        "   bnb_4bit_compute_dtype=torch.float16\n",
        ")\n",
        "\n",
        "tokenizer = AutoTokenizer.from_pretrained(model_id)\n",
        "model = AutoModelForCausalLM.from_pretrained(\n",
        "    model_id,\n",
        "    quantization_config=quantization_config,\n",
        "    device_map=\"auto\",\n",
        ")\n"
      ],
      "metadata": {
        "id": "joNUtpq8KaR3"
      },
      "execution_count": null,
      "outputs": []
    },
    {
      "cell_type": "code",
      "source": [
        "# system = \"Provide answers in Python\"\n",
        "user = humaneval['test']['canonical_solution'][0]\n",
        "prompt = f\"<s>[INST] <<SYS>>\\\\n{system_instruction}\\\\n<</SYS>>\\\\n\\\\n{user}[/INST]\"\n",
        "inputs = tokenizer(prompt, return_tensors=\"pt\", add_special_tokens=False).to(\"cuda\")\n",
        "\n",
        "output = model.generate(\n",
        "    inputs[\"input_ids\"],\n",
        "    max_new_tokens=200,\n",
        "    do_sample=True,\n",
        "    top_p=0.9,\n",
        "    temperature=0.1,\n",
        "    pad_token_id=tokenizer.eos_token_id\n",
        ")\n",
        "output = output[0].to(\"cpu\")\n",
        "print(tokenizer.decode(output))"
      ],
      "metadata": {
        "id": "FiU_tVz6K1JJ"
      },
      "execution_count": null,
      "outputs": []
    },
    {
      "cell_type": "code",
      "source": [
        "humaneval_prompts = []\n",
        "for i in humaneval[\"test\"]:\n",
        "  concat_prompt = i['prompt'] + i['canonical_solution']\n",
        "  humaneval_prompts.append(concat_prompt)\n",
        "\n",
        "humaneval_outputs = generate_output(humaneval_prompts)\n"
      ],
      "metadata": {
        "id": "d0rCvy3eR5e_"
      },
      "execution_count": null,
      "outputs": []
    },
    {
      "cell_type": "code",
      "source": [
        "import csv\n",
        "\n",
        "def generate_output(prompts):\n",
        "  output_texts = []\n",
        "  for idx, p in prompts:\n",
        "    print(idx, end = '')\n",
        "    user = p\n",
        "    prompt = f\"<s>[INST] <<SYS>>\\\\n{system_instruction}\\\\n<</SYS>>\\\\n\\\\n{user}[/INST]\"\n",
        "    inputs = tokenizer(prompt, return_tensors=\"pt\", add_special_tokens=False).to(\"cuda\")\n",
        "    output = model.generate(\n",
        "        inputs[\"input_ids\"],\n",
        "        max_new_tokens=200,\n",
        "        do_sample=True,\n",
        "        top_p=0.9,\n",
        "        temperature=0.1,\n",
        "        pad_token_id=tokenizer.eos_token_id\n",
        "    )\n",
        "    output = output[0].to(\"cpu\")\n",
        "    output_text = tokenizer.decode(output)\n",
        "    output_dict = {'index': idx,  'prompt': p, 'output': output_text}\n",
        "    output_texts.append(output_dict)\n",
        "  return output_texts\n",
        "\n",
        "def parsed_csv(file_path, results):\n",
        "  keys = ['index','prompt', 'output']\n",
        "  with open(file_path, 'w', newline='') as csvfile:\n",
        "      writer = csv.DictWriter(csvfile, fieldnames=keys)\n",
        "      writer.writeheader()\n",
        "      for result in results:\n",
        "          writer.writerow(result)\n"
      ],
      "metadata": {
        "id": "7Alj_r2QIkvb"
      },
      "execution_count": null,
      "outputs": []
    },
    {
      "cell_type": "code",
      "source": [
        "print(\"HUMANEVAL\\n\")\n",
        "humaneval_prompts = []\n",
        "for idx,i in enumerate(humaneval[\"test\"]):\n",
        "  concat_prompt = i['prompt'] + i['canonical_solution']\n",
        "  humaneval_prompts.append([idx,concat_prompt])\n",
        "\n",
        "humaneval_outputs = generate_output(humaneval_prompts)\n",
        "parsed_csv('/content/humaneval_parsed.csv', humaneval_outputs)\n",
        "\n"
      ],
      "metadata": {
        "id": "LOJynyVjTR0j"
      },
      "execution_count": null,
      "outputs": []
    },
    {
      "cell_type": "code",
      "source": [
        "print(\"\\n\\nMBPP\\n\")\n",
        "mbpp_prompts=[]\n",
        "for idx,i in enumerate(mbpp[\"test\"]):\n",
        "  concat_prompt = i['text'] + '\\n\\n'+ i['code']\n",
        "  mbpp_prompts.append([idx,concat_prompt])\n",
        "\n",
        "mbpp_outputs = generate_output(mbpp_prompts)\n",
        "parsed_csv('/content/mbpp_parsed.csv', mbpp_outputs)"
      ],
      "metadata": {
        "colab": {
          "base_uri": "https://localhost:8080/"
        },
        "id": "8LrW2pDCiRwU",
        "outputId": "96b657ac-57a0-4bc7-defe-6624817da4ad"
      },
      "execution_count": null,
      "outputs": [
        {
          "output_type": "stream",
          "name": "stdout",
          "text": [
            "\n",
            "\n",
            "MBPP\n",
            "\n",
            "0123456789101112131415161718192021222324252627282930313233343536373839404142434445464748495051525354555657585960616263646566676869707172737475767778798081828384858687888990919293949596979899100101102103104105106107108109110111112113114115116117118119120121122123124125126127128129130131132133134135136137138139140141142143144145146147148149150151152153154155156157158159160161162163164165166167168169170171172173174175176177178179180181182183184185186187188189190191192193194195196197198199200201202203204205206207208209210211212213214215216217218219220221222223224225226227228229230231232233234235236237238239240241242243244245246247248249250251252253254255256257258259260261262263264265266267268269270271272273274275276277278279280281282283284285286287288289290291292293294295296297298299300301302303304305306307308309310311312313314315316317318319320321322323324325326327328329330331332333334335336337338339340341342343344345346347348349350351352353354355356357358359360361362363364365366367368369370371372373374375376377378379380381382383384385386387388389390391392393394395396397398399400401402403404405406407408409410411412413414415416417418419420421422423424425426427428429430431432433434435436437438439440441442443444445446447448449450451452453454455456457458459460461462463464465466467468469470471472473474475476477478479480481482483484485486487488489490491492493494495496497498499"
          ]
        }
      ]
    },
    {
      "cell_type": "markdown",
      "source": [
        "# Parsing"
      ],
      "metadata": {
        "id": "eSCIxUm-JKRg"
      }
    },
    {
      "cell_type": "code",
      "source": [
        "import csv\n",
        "import re\n",
        "def extract_python_function(text):\n",
        "    # Pattern to capture a Python function\n",
        "    # - Starts with 'def' followed by any characters (the function name and arguments)\n",
        "    # - Includes all indented lines after the 'def' line, allowing for empty lines\n",
        "    # - Assumes an indentation of 4 spaces, but can be adjusted\n",
        "    pattern = r\"(def .+?:\\n(?: {4,}.*\\n|\\n)*)\"\n",
        "\n",
        "    # Find all matches\n",
        "    matches = re.findall(pattern, text, re.MULTILINE)\n",
        "\n",
        "    return matches\n",
        "\n",
        "\n",
        "def extract_after_substring(full_string, substring):\n",
        "    index = full_string.find(substring)\n",
        "    if index != -1:\n",
        "        return full_string[index + len(substring):]\n",
        "    else:\n",
        "        return \"\"\n",
        "\n",
        "def extract_between_markers(full_string, start_marker, end_marker):\n",
        "    start_index = full_string.find(start_marker)\n",
        "    end_index = full_string.find(end_marker, start_index + len(start_marker))\n",
        "    if start_index != -1 and end_index != -1:\n",
        "        return full_string[start_index + len(start_marker):end_index].strip()\n",
        "    else:\n",
        "        return \"\"\n",
        "\n",
        "def extract_python_code(full_string):\n",
        "    extracted_string = extract_after_substring(full_string, \"[/INST]\")\n",
        "    out = extract_between_markers(extracted_string, \"```\", \"```\")\n",
        "    if out != '':\n",
        "      return out\n",
        "    else:\n",
        "      return extract_python_function(extracted_string)\n"
      ],
      "metadata": {
        "id": "sZnVHYDIJM6e"
      },
      "execution_count": null,
      "outputs": []
    },
    {
      "cell_type": "code",
      "source": [
        "example = '''<s> [INST] <<SYS>>\\nRefactor the given Python program to a more readable, efficient, and maintainable one. You can assume that the given program is semantically correct. Do not change the external behavior of the program, and keep the syntactic and semantic correctness. Python programs should be in a code block. Do not explain anything in natural language.\\n<</SYS>>\\n\\nWrite a function to find the perimeter of a square.\n",
        "\n",
        "def square_perimeter(a):\n",
        "\n",
        "  perimeter=4*a\n",
        "\n",
        "  return perimeter[/INST]  Here is a more readable, efficient, and maintainable version of the given Python program:\n",
        "\n",
        "def square_perimeter(side_length):\n",
        "    return 4 * side_length\n",
        "\n",
        "This version of the program is more readable because it uses meaningful variable names and follows the PEP 8 style guide for Python code formatting. It is also more efficient because it avoids the unnecessary use of the `*` operator and the `return` statement. Finally, it is more maintainable because it is easier to understand and modify the code.</s>'''\n",
        "print(extract_python_function(example))\n"
      ],
      "metadata": {
        "colab": {
          "base_uri": "https://localhost:8080/"
        },
        "id": "SkQskVw6PgZh",
        "outputId": "9926f7e4-2fa5-454c-95ba-05a4c956007f"
      },
      "execution_count": null,
      "outputs": [
        {
          "output_type": "stream",
          "name": "stdout",
          "text": [
            "['def square_perimeter(a):\\n\\n', 'def square_perimeter(side_length):\\n    return 4 * side_length\\n\\n']\n"
          ]
        }
      ]
    },
    {
      "cell_type": "code",
      "source": [
        "import pandas as pd\n",
        "csv_file_path = 'humaneval_parsed.csv'\n",
        "\n",
        "humaneval_output_values = []\n",
        "with open(csv_file_path, 'r') as file:\n",
        "    csv_reader = csv.DictReader(file)\n",
        "    for row in csv_reader:\n",
        "        humaneval_output_values.append(row['output'])\n",
        "\n",
        "humaneval_snippets=[]\n",
        "for i in humaneval_output_values:\n",
        "  humaneval_snippets.append(extract_python_code(i))\n",
        "\n",
        "# Step 1: Read the CSV file into a DataFrame\n",
        "csv_file_path = 'humaneval_parsed.csv'\n",
        "parsed ='humaneval_parsed_output.csv'\n",
        "df = pd.read_csv(csv_file_path)\n",
        "\n",
        "# Step 3: Add the new \"City\" column to the DataFrame\n",
        "df['parsed_output'] = humaneval_snippets\n",
        "\n",
        "# Step 4: Write the DataFrame back to the CSV file\n",
        "df.to_csv(parsed, index=False)"
      ],
      "metadata": {
        "id": "vKD0KuCfJhai"
      },
      "execution_count": null,
      "outputs": []
    },
    {
      "cell_type": "code",
      "source": [
        "csv_file_path = 'mbpp_parsed.csv'\n",
        "\n",
        "mbpp_output_values = []\n",
        "with open(csv_file_path, 'r') as file:\n",
        "    csv_reader = csv.DictReader(file)\n",
        "    for row in csv_reader:\n",
        "        mbpp_output_values.append(row['output'])\n",
        "\n",
        "mbpp_snippets=[]\n",
        "for i in mbpp_output_values:\n",
        "  mbpp_snippets.append(extract_python_code(i))\n",
        "print(mbpp_snippets)\n",
        "\n",
        "\n",
        "# Step 1: Read the CSV file into a DataFrame\n",
        "csv_file_path = 'mbpp_parsed.csv'\n",
        "parsed ='mbpp_parsed_output.csv'\n",
        "df = pd.read_csv(csv_file_path)\n",
        "\n",
        "# Step 3: Add the new \"City\" column to the DataFrame\n",
        "df['parsed_output'] = mbpp_snippets\n",
        "\n",
        "# Step 4: Write the DataFrame back to the CSV file\n",
        "df.to_csv(parsed, index=False)"
      ],
      "metadata": {
        "colab": {
          "base_uri": "https://localhost:8080/"
        },
        "id": "FWY2snCPM1vD",
        "outputId": "87e2b8ac-cc7d-4c29-cf97-abb6867c725f"
      },
      "execution_count": null,
      "outputs": [
        {
          "output_type": "stream",
          "name": "stdout",
          "text": [
            "[['def remove_Occ(s, ch):\\n    for i in range(len(s)):\\n        if s[i] == ch:\\n            s = s[:i] + s[i+1:]\\n            break\\n    for i in range(len(s) - 1, -1, -1):\\n        if s[i] == ch:\\n            s = s[:i] + s[i+1:]\\n            break\\n    return s\\n\\n'], ['def sort_matrix(M):\\n    return sorted(M, key=sum)\\n\\n'], 'from collections import Counter\\n\\ndef count_common(words):\\n    word_counts = Counter(words)\\n    top_four = word_counts.most_common(4)\\n    return top_four', 'def find_volume(l, b, h):\\n    return (l * b * h) / 2', \"import re\\n\\ndef split_lowerstring(text):\\n    return re.split(r'[a-z]', text)\", 'import re\\n\\ndef text_lowercase_underscore(text):\\n    pattern = r\"^[a-z]+_[a-z]+$\"\\n    if re.search(pattern, text):\\n        return \"Found a match!\"\\n    else:\\n        return \"Not matched!\"', ['def square_perimeter(side_length):\\n    return 4 * side_length\\n\\n'], \"def remove_dirty_chars(string, second_string):\\n    clean_string = ''\\n    for char in string:\\n        if char not in second_string:\\n            clean_string += char\\n    return clean_string\", 'def test_duplicate(arraynums):\\n    return len(set(arraynums)) != len(arraynums)', ['def is_woodall(x):\\n    if x == 1:\\n        return True\\n    if x % 2 == 0:\\n        return False\\n    x += 1\\n    p = 0\\n    while x % 2 == 0:\\n        x //= 2\\n        p += 1\\n        if p == x:\\n            return True\\n    return False\\n\\n'], 'def multiples_of_num(m, n):\\n    return [x for x in range(n, (m + 1) * n, n)]', 'def find_first_duplicate(nums):\\n    seen = set()\\n    for num in nums:\\n        if num in seen:\\n            return num\\n        seen.add(num)\\n    return -1', 'def maximum_Sum(list1):\\n    return max(sum(x) for x in list1)', ['def binary_to_decimal(binary):\\n    return int(binary, 2)\\n\\n'], 'def find_product(arr):\\n    arr.sort()\\n    product = 1\\n    for i in range(len(arr)):\\n        if arr[i - 1] != arr[i]:\\n            product *= arr[i]\\n    return product', 'def check_k_elements(test_list, K):\\n    return all(K in tup for tup in test_list)', \"import re\\n\\ndef remove_digits(my_list):\\n    return [word for word in my_list if not re.search(r'\\\\d', word)]\", 'def binomial_coefficient(n, k):\\n    if k > n:\\n        return 0\\n    if k == 0 or k == n:\\n        return 1\\n    return binomial_coefficient(n - 1, k - 1) + binomial_coefficient(n - 1, k)', ['def get_Odd_Occurrence(arr, arr_size):\\n    counts = {}\\n    for i in range(arr_size):\\n        if arr[i] in counts:\\n            counts[arr[i]] += 1\\n        else:\\n            counts[arr[i]] = 1\\n\\n    for key, value in counts.items():\\n        if value % 2 != 0:\\n            return key\\n\\n    return -1\\n\\n'], 'def count_substrings_with_equal_ends(s):\\n    result = 0\\n    for i in range(len(s)):\\n        if s[i] == s[-i-1]:\\n            result += 1\\n    return result', ['def func(nums, k):\\n    import collections\\n    d = collections.defaultdict(int)\\n    for row in nums:\\n        for i in row:\\n            d[i] += 1\\n    temp = []\\n    import heapq\\n    for key, v in d.items():\\n        if len(temp) < k:\\n            temp.append((v, key))\\n            if len(temp) == k:\\n                heapq.heapify(temp)\\n        else:\\n            if v > temp[0][0]:\\n                heapq.heappop(temp)\\n                heapq.heappush(temp, (v, key))\\n    result = []\\n    while temp:\\n        v, key = heapq.heappop(temp)\\n'], 'import math\\n\\ndef max_prime_factor(n):\\n    if n <= 1:\\n        return n\\n    max_prime = -1\\n    for i in range(2, int(math.sqrt(n)) + 1):\\n        if n % i == 0:\\n            max_prime = i\\n            n //= i\\n            break\\n    if max_prime == -1:\\n        max_prime = n\\n    return int(max_prime)', 'def decimal_to_binary(n):\\n    binary = \"\"\\n    while n > 0:\\n        binary = str(n % 2) + binary\\n        n //= 2\\n    return binary', 'def find_missing(arr, n):\\n    for i in range(n):\\n        if arr[i] != i + 1:\\n            return i + 1\\n    return -1', 'def find_rect_num(n):\\n    return n * (n + 1)', 'def find_nth_digit(p, q, n):\\n    while n > 0:\\n        n -= 1\\n        p *= 10\\n        q *= 10\\n    return p // q', ['def sort_mixed_list(mixed_list):\\n    int_part = sorted(i for i in mixed_list if isinstance(i, int))\\n    str_part = sorted(i for i in mixed_list if isinstance(i, str))\\n    return int_part + str_part\\n\\n'], ['def div_even_odd(list1):\\n    even_it = iter(list1)\\n    odd_it = iter(list1)\\n    try:\\n        first_even = next(even_it)\\n    except StopIteration:\\n        first_even = -1\\n    try:\\n        first_odd = next(odd_it)\\n    except StopIteration:\\n        first_odd = -1\\n    return first_even / first_odd\\n\\n'], ['def rearrange_string(S):\\n    ctr = Counter(S)\\n    heap = [(-value, key) for key, value in ctr.items()]\\n    heapq.heapify(heap)\\n    if (-heap[0][0]) * 2 > len(S) + 1:\\n        return \"\"\\n    ans = []\\n    while len(heap) >= 2:\\n        nct1, char1 = heapq.heappop(heap)\\n        nct2, char2 = heapq.heappop(heap)\\n        ans.extend([char1, char2])\\n'], ['def freq_element(nums):\\n    count = Counter(nums)\\n    return {k: v for k, v in count.items() if v > 1}\\n\\n'], ['def filter_even_numbers(numbers):\\n    return [n for n in numbers if n % 2 == 0]\\n\\n'], ['def find_sum(arr):\\n    unique_elements = set()\\n    repeated_elements = []\\n    for element in arr:\\n        if element not in unique_elements:\\n            unique_elements.add(element)\\n        else:\\n            repeated_elements.append(element)\\n    return sum(repeated_elements)\\n\\n'], 'import re\\n\\ndef text_match(text):\\n    pattern = r\"^[a-z]+_[a-z]+$\"\\n    if re.search(pattern, text):\\n        return \"Found a match!\"\\n    else:\\n        return \"Not matched!\"', 'import re\\n\\ndef text_match_string(text):\\n    pattern = r\"^\\\\w+\"\\n    if re.match(pattern, text):\\n        return \"Found a match!\"\\n    else:\\n        return \"Not matched!\"', ['def get_gcd(l):\\n    gcd = l[0]\\n    for i in range(1, len(l)):\\n        gcd = find_gcd(gcd, l[i])\\n    return gcd\\n\\n', 'def find_gcd(a, b):\\n    while b:\\n        a, b = b, a % b\\n    return a\\n\\n'], 'def test_distinct(data):\\n    return len(data) == len(set(data))', 'def compute_last_digit(a, b):\\n    if a == b:\\n        return 1\\n    elif b - a >= 5:\\n        return 0\\n    else:\\n        result = 1\\n        for i in range(a + 1, b + 1):\\n            result = (result * (i % 10)) % 10\\n        return result % 10', ['def odd_bit_set_number(n):\\n    mask = 1\\n    while mask <= n:\\n        if n & mask:\\n            n |= (1 << count)\\n        mask <<= 1\\n    return n\\n\\n'], ['def specified_element(nums, N):\\n    return [row[N] for row in nums]\\n\\n'], ['def min_length_list(input_list):\\n    return min(input_list, key=len)\\n\\n'], 'def check_equilateral(x, y, z):\\n    return x == y == z', ['def parallelogram_area(b, h):\\n    return b * h\\n\\n'], 'def check_Equality(str):\\n    return str[0] == str[-1]', ['def counting_sort(my_list):\\n    max_value = max(my_list)\\n    buckets = [0] * (max_value + 1)\\n    for i in my_list:\\n        buckets[i] += 1\\n    i = 0\\n    for j in range(max_value + 1):\\n        for a in range(buckets[j]):\\n            my_list[i] = j\\n            i += 1\\n    return my_list\\n\\n'], ['def tn_gp(a, n, r):\\n    return a * math.pow(r, n - 1)\\n\\n'], 'def check(n):\\n    rev_n = rev(n)\\n    return (2 * rev_n == n + 1)\\n\\ndef rev(num):\\n    rev_num = 0\\n    while num > 0:\\n        rev_num = (rev_num * 10 + num % 10)\\n        num = num // 10\\n    return rev_num', 'def find_max_num(arr, n):\\n    arr.sort(reverse=True)\\n    num = arr[0]\\n    for i in range(1, n):\\n        num = num * 10 + arr[i]\\n    return num', 'def opposite_Signs(x, y):\\n    return (x < 0) != (y < 0)', 'def is_octagonal(n):\\n    return (3 * n * n - 2 * n) == 0', ['def max_len_sub(arr, n):\\n    mls = []\\n    max = 0\\n    for i in range(n):\\n        mls.append(1)\\n    for i in range(n):\\n        for j in range(i):\\n            if (abs(arr[i] - arr[j]) <= 1 and mls[i] < mls[j] + 1):\\n                mls[i] = mls[j] + 1\\n    for i in range(n):\\n        if (max < mls[i]):\\n            max = mls[i]\\n    return max\\n\\n'], \"def count_Substrings(s, n):\\n    count = 0\\n    sum = 0\\n    mp = defaultdict(lambda: 0)\\n    mp[0] += 1\\n    for i in range(n):\\n        sum += ord(s[i]) - ord('0')\\n        count += mp[sum - (i + 1)]\\n        mp[sum - (i + 1)] += 1\\n    return count\", 'def smallest_num(xs):\\n    return min(xs)', 'def max_difference(test_list):\\n    # Calculate the absolute differences between each pair of elements\\n    differences = [abs(b - a) for a, b in test_list]\\n    \\n    # Find the maximum difference\\n    max_diff = max(differences)\\n    \\n    return max_diff', 'def sort_subject_marks(subject_marks):\\n    return sorted(subject_marks, key=lambda x: x[1])', ['def recursive_list_sum(data_list):\\n    return sum(data_list, start=0)\\n\\n'], ['def pos_count(my_list):\\n    return sum(1 for x in my_list if x >= 0)\\n\\n'], ['def bell_number(n):\\n    bell = [[0] * (n + 1) for _ in range(n + 1)]\\n    bell[0][0] = 1\\n    for i in range(1, n + 1):\\n        bell[i][0] = bell[i - 1][i - 1]\\n        for j in range(1, i + 1):\\n            bell[i][j] = bell[i - 1][j - 1] + bell[i][j - 1]\\n    return bell[n][0]\\n\\n'], 'def is_Monotonic(A):\\n    return all(A[i] <= A[i + 1] for i in range(len(A) - 1)) or all(A[i] >= A[i + 1] for i in range(len(A) - 1))', ['def is_sublist(l, s):\\n    return s == [] or s == l or (len(s) <= len(l) and s == l[0:len(s)])\\n\\n'], 'def find_equal_tuple(Input, k):\\n    return all(len(tuple) == k for tuple in Input)\\n\\ndef get_equal(Input, k):\\n    if find_equal_tuple(Input, k):\\n        return \"All tuples have same length\"\\n    else:\\n        return \"All tuples do not have same length\"', ['def comb_sort(nums):\\n    shrink_fact = 1.3\\n    gaps = len(nums)\\n    swapped = True\\n    while gaps > 1 or swapped:\\n        gaps = int(float(gaps) / shrink_fact)\\n        swapped = False\\n        for i in range(gaps):\\n            if nums[i] > nums[i+gaps]:\\n                nums[i], nums[i+gaps] = nums[i+gaps], nums[i]\\n                swapped = True\\n    return nums\\n\\n'], 'def can_be_represented_as_difference_of_two_squares(n):\\n    if n % 4 == 2:\\n        return False\\n    for i in range(int(n ** 0.5)):\\n        j = int((n - i ** 2) ** 0.5)\\n        if j ** 2 == n - i ** 2:\\n            return True\\n    return False', \"import re\\n\\ndef multiple_split(text):\\n    return re.split(r'; |, |\\\\*|\\\\n', text)\", 'def is_samepatterns(colors, patterns):\\n    if len(colors) != len(patterns):\\n        return False\\n\\n    sdict = {}\\n    for pattern, color in zip(patterns, colors):\\n        if pattern not in sdict:\\n            sdict[pattern] = []\\n        sdict[pattern].append(color)\\n\\n    for values in sdict.values():\\n        for i in range(len(values) - 1):\\n            if values[i] != values[i+1]:\\n                return False\\n\\n    return True', 'def find_tuples(test_list, K):\\n    return [sub for sub in test_list if all(ele % K == 0 for ele in sub)]', 'def count_squares(m, n):\\n    if m < n:\\n        m, n = n, m\\n    return (m * (m + 1) * (2 * m + 1) / 6 + (n - m) * m * (m + 1) / 2)', 'def is_Diff(n):\\n    sum_even = 0\\n    sum_odd = 0\\n    for digit in str(n):\\n        if digit.isdigit():\\n            if int(digit) % 2 == 0:\\n                sum_even += int(digit)\\n            else:\\n                sum_odd += int(digit)\\n    return sum_even - sum_odd', [\"def count_With_Odd_SetBits(n):\\n    if n % 2 != 0:\\n        return (n + 1) // 2\\n    count = bin(n).count('1')\\n    ans = n // 2\\n    if count % 2 != 0:\\n        ans += 1\\n    return ans\\n\\n\"], 'def word_len(s):\\n    for word in s.split():\\n        if len(word) % 2 != 0:\\n            return True\\n    return False', 'def tetrahedral_number(n):\\n    return (n * (n + 1) * (n + 2)) // 6', 'def zip_tuples(test_tup1, test_tup2):\\n    return tuple(zip(test_tup1, test_tup2))', ['def volume_sphere(r):\\n    return (4/3) * math.pi * r ** 3\\n\\n'], \"def get_char(strr):\\n    return chr((sum(ord(c) - ord('a') + 1 for c in strr) % 26) + ord('a'))\", 'def newman_conway(n):\\n    if n == 1 or n == 2:\\n        return 1\\n    else:\\n        return newman_conway(newman_conway(n-1)) + newman_conway(n-newman_conway(n-1))', ['def surface_area_sphere(r):\\n    return 4 * math.pi * r ** 2\\n\\n'], 'def centered_hexagonal_number(n):\\n    return 3 * n * (n - 1) + 1', ['def merge_dictionaries_three(dict1, dict2, dict3):\\n    merged_dict = dict(ct.ChainMap({}, dict1, dict2, dict3))\\n    return merged_dict\\n\\n'], ['def freq_count(list1):\\n    return collections.Counter(list1)\\n\\n'], 'def closest_num(n):\\n    return n - 1', ['def longest_word_length(words):\\n    return max(map(len, words))\\n\\n'], 'def find_substring(str_list, sub_str):\\n    return any(sub_str in s for s in str_list)', ['def is_undulating(n):\\n    for i in range(2, len(n)):\\n        if n[i - 2] != n[i]:\\n            return False\\n    return True\\n\\n'], ['def power(a, b):\\n    if b == 0:\\n        return 1\\n    elif a == 0:\\n        return 0\\n    elif b == 1:\\n        return a\\n    else:\\n        return a * power(a, b - 1)\\n\\n'], 'from operator import itemgetter\\n\\ndef index_minimum(test_list):\\n    return min(test_list, key=itemgetter(1))[0]', 'def find_min_length(lst):\\n    return min(len(x) for x in lst)', ['def divisor(n):\\n    count = 0\\n    for i in range(1, n + 1):\\n        if n % i == 0:\\n            count += 1\\n    return count\\n\\n'], 'def frequency_lists(list1):\\n    # Flatten the list of lists into a single list\\n    list1 = [item for sublist in list1 for item in sublist]\\n\\n    # Create a dictionary to store the frequency count\\n    dic_data = {}\\n\\n    # Iterate through the list and increment the frequency count for each unique element\\n    for num in list1:\\n        if num in dic_data:\\n            dic_data[num] += 1\\n        else:\\n            dic_data[num] = 1\\n\\n    return dic_data', 'def multiply_num(numbers):\\n    return sum(numbers) / len(numbers)', 'def decimal_to_binary(n):\\n    return bin(n)[2:]', 'import sys\\n\\ndef next_smallest_palindrome(num):\\n    num_str = str(num)\\n    for i in range(num + 1, sys.maxsize):\\n        if str(i) == str(i)[::-1]:\\n            return i', ['def kth_element(arr, n, k):\\n    # Sort the array in ascending order\\n    arr.sort()\\n    # Return the kth element of the sorted array\\n    return arr[k-1]\\n\\n'], [\"def snake_to_camel(word):\\n    return ''.join([x.title() for x in word.split('_')])\\n\\n\"], 'def eulerian_num(n, m):\\n    if m >= n or n == 0:\\n        return 0\\n    if m == 0:\\n        return 1\\n    return ((n - m) * eulerian_num(n - 1, m - 1) + (m + 1) * eulerian_num(n - 1, m))', ['def sort_sublists(input_list):\\n    return [sorted(x, key=lambda x: x[0]) for x in input_list]\\n\\n'], 'def count_true_booleans(lst):\\n    return sum(x for x in lst if x)', 'def add_lists(test_list, test_tup):\\n    return tuple(test_list + list(test_tup))', 'def count_Hexadecimal(L, R):\\n    count = 0\\n    for i in range(L, R + 1):\\n        if i >= 10 and i <= 15:\\n            count += 1\\n        elif i > 15:\\n            k = i\\n            while k != 0:\\n                if k % 16 >= 10:\\n                    count += 1\\n                k = k // 16\\n    return count', ['def merge_sorted_lists(lists):\\n    result = []\\n    for l in lists:\\n        result.extend(l)\\n    result.sort()\\n    return result\\n\\n'], \"def odd_Equivalent(s, n):\\n    count = 0\\n    for i in range(n):\\n        if s[i] == '1':\\n            count += 1\\n    return count\", 'def extract_missing(test_list, strt_val, stop_val):\\n    res = []\\n    for sub in test_list:\\n        if sub[0] > strt_val:\\n            res.append((strt_val, sub[0]))\\n            strt_val = sub[1]\\n        if strt_val < stop_val:\\n            res.append((strt_val, stop_val))\\n    return res', 'def common_in_nested_lists(nested_lists):\\n    return list(set.intersection(*map(set, nested_lists)))', 'def perimeter(diameter, height):\\n    return 2 * (diameter + height)', 'def check_integer(text):\\n    text = text.strip()\\n    if not text:\\n        return None\\n    if text.isdigit():\\n        return True\\n    elif text[0] in \"+-\" and text[1:].isdigit():\\n        return True\\n    else:\\n        return False', 'from collections import Counter\\n\\ndef assign_freq(test_list):\\n    counter = Counter(test_list)\\n    return [(*key, val) for key, val in counter.items()]', 'def all_empty_dicts(list1):\\n    return all(not d for d in list1)', [\"def tuple_to_int(nums):\\n    return int(''.join(map(str, nums)))\\n\\n\"], 'def list_to_float(test_list):\\n    return [(float(x), float(y)) for x, y in test_list]', 'def string_to_list(string):\\n    return list(string.split(\" \"))', 'def search(arr, n):\\n    XOR = 0\\n    for i in range(n):\\n        XOR ^= arr[i]\\n    return XOR', ['def max_product_tuple(list1):\\n    return max(abs(x * y) for x, y in list1)\\n\\n'], 'def check_triplet(A, n, sum, count):\\n    if count == 3 and sum == 0:\\n        return True\\n    if count == 3 or n == 0 or sum < 0:\\n        return False\\n    return check_triplet(A, n - 1, sum - A[n - 1], count + 1) or\\\\\\n           check_triplet(A, n - 1, sum, count)', 'MAX = 3000\\n\\ndef smartNumber(n):\\n    primes = [0] * MAX\\n    result = []\\n    for i in range(2, MAX):\\n        if primes[i] == 0:\\n            primes[i] = 1\\n            j = i * 2\\n            while j < MAX:\\n                primes[j] -= 1\\n                if (primes[j] + 3) == 0:\\n                    result.append(j)\\n                j = j + i\\n    result.sort()\\n    return result[n - 1]', ['def amicable_numbers_sum(limit):\\n    if not isinstance(limit, int):\\n        return \"Input is not an integer!\"\\n    if limit < 1:\\n        return \"Input must be bigger than 0!\"\\n    amicables = set()\\n    for num in range(2, limit+1):\\n        if num in amicables:\\n            continue\\n        sum_fact = sum([fact for fact in range(1, num) if num % fact == 0])\\n        sum_fact2 = sum([fact for fact in range(1, sum_fact) if sum_fact % fact == 0])\\n        if num == sum_fact2 and num != sum_fact:\\n            amicables.add(num)\\n            amicables.add(sum_fact2)\\n'], ['def angle_complex(a, b):\\n    cn = complex(a, b)\\n    angle = cmath.phase(cn)\\n    return angle\\n\\n'], \"def find_length(string, n):\\n    current_sum = 0\\n    max_sum = 0\\n    for i in range(n):\\n        if string[i] == '0':\\n            current_sum += 1\\n        else:\\n            current_sum -= 1\\n        if current_sum < 0:\\n            current_sum = 0\\n        max_sum = max(current_sum, max_sum)\\n    return max_sum if max_sum else 0\", ['def sum_common_divisors(a, b):\\n    common_divisors = []\\n    for i in range(1, min(a, b) + 1):\\n        if a % i == 0 and b % i == 0:\\n            common_divisors.append(i)\\n    return sum(common_divisors)\\n\\n'], ['def multiply_int(x, y):\\n    if y < 0:\\n        return -multiply_int(x, -y)\\n    elif y == 0:\\n        return 0\\n    elif y == 1:\\n        return x\\n    else:\\n        return x + multiply_int(x, y - 1)\\n\\n'], 'def long_words(n, words):\\n    return [word for word in words if len(word) > n]', ['def magic_square_test(my_matrix):\\n    iSize = len(my_matrix[0])\\n    sum_list = []\\n    for row in my_matrix:\\n        sum_list.append(sum(row))\\n    for col in range(iSize):\\n        sum_list.append(sum(row[col] for row in my_matrix))\\n    result1 = 0\\n    for i in range(0,iSize):\\n        result1 +=my_matrix[i][i]\\n    sum_list.append(result1)     \\n    result2 = 0\\n    for i in range(iSize-1,-1,-1):\\n        result2 +=my_matrix[i][i]\\n    sum_list.append(result2)\\n'], ['def max_occurrences(nums):\\n    counter = Counter(nums)\\n    return counter.most_common(1)[0][0]\\n\\n'], 'def reverse_vowels(str1):\\n    vowels = \"aeiouAEIOU\"\\n    result_string = \"\"\\n    for char in str1:\\n        if char in vowels:\\n            result_string += vowels[-1]\\n            vowels = vowels[:-1]\\n        else:\\n            result_string += char\\n    return result_string', [\"def tup_string(tup1):\\n    return ''.join(tup1)\\n\\n\"], ['def sum_negative_numbers(numbers):\\n    return sum(filter(lambda x: x < 0, numbers))\\n\\n'], ['def check_last(arr, n, p):\\n    \"\"\"\\n    Return \"EVEN\" if the last element of the array is even after performing the operation p times,\\n    otherwise return \"ODD\".\\n    \"\"\"\\n    # Initialize the sum to 0\\n    _sum = 0\\n\\n    # Iterate over the array and add up the elements\\n    for i in range(n):\\n        _sum += arr[i]\\n\\n    # If the operation is 1, check if the sum is even or odd\\n    if p == 1:\\n        if _sum % 2 == 0:\\n            return \"ODD\"\\n        else:\\n            return \"EVEN\"\\n\\n    # If the operation is not 1, always return \"EVEN\"\\n    return \"EVEN\"\\n'], 'def hexagonal_num(n):\\n    return n * (2 * n - 1)', ['def calculate_electricity_bill(units):\\n    if units < 50:\\n        amount = units * 2.60\\n        surcharge = 25\\n    elif units <= 100:\\n        amount = 130 + ((units - 50) * 3.25)\\n        surcharge = 35\\n    elif units <= 200:\\n        amount = 130 + 162.50 + ((units - 100) * 5.26)\\n        surcharge = 45\\n    else:\\n        amount = 130 + 162.50 + 526 + ((units - 200) * 8.45)\\n'], ['def zero_count(nums):\\n    count = 0\\n    for num in nums:\\n        if num == 0:\\n            count += 1\\n    return count / len(nums)\\n\\n'], 'def is_Sum_Of_Powers_Of_Two(n):\\n    if n == 0:\\n        return False\\n    while n > 0:\\n        if n % 2 == 1:\\n            return False\\n        n //= 2\\n    return True', ['def circle_circumference(r):\\n    return 2 * 3.1415 * r\\n\\n'], 'def extract_singly(test_list):\\n    res = []\\n    temp = set()\\n    for inner in test_list:\\n        for ele in inner:\\n            if ele not in temp:\\n                temp.add(ele)\\n                res.append(ele)\\n    return res', ['def pancake_sort(nums):\\n    # Sort the list using pancake sort\\n    for i in range(len(nums), 1, -1):\\n        # Find the maximum element in the list\\n        max_val = max(nums[0:i])\\n        # Find the index of the maximum element\\n        max_idx = nums.index(max_val)\\n        # Reverse the list from 0 to the maximum element index\\n        nums[0:max_idx+1] = nums[0:max_idx+1][::-1]\\n        # Reverse the list from the maximum element index to the end\\n        nums[max_idx+1:i] = nums[max_idx+1:i][::-1]\\n'], ['def count_samepair(list1, list2, list3):\\n    return sum(m == n == o for m, n, o in zip(list1, list2, list3))\\n\\n'], 'def find_lists(input_tuple):\\n    list_count = 0\\n    for element in input_tuple:\\n        if isinstance(element, list):\\n            list_count += 1\\n    return list_count', ['def sum_Pairs(arr):\\n    return sum(abs(arr[i] - arr[j]) for i in range(len(arr)) for j in range(i+1, len(arr)))\\n\\n'], 'def max_abs_diff(arr):\\n    min_val = arr[0]\\n    max_val = arr[0]\\n    for i in range(1, len(arr)):\\n        min_val = min(min_val, arr[i])\\n        max_val = max(max_val, arr[i])\\n    return max_val - min_val', 'def ascii_value_string(str1):\\n    return sum(ord(char) for char in str1)', ['def max_path_sum(triangle, m, n):\\n    # Initialize the maximum total path sum to 0\\n    max_sum = 0\\n    # Loop through each row of the triangle\\n    for i in range(m):\\n        # Loop through each element in the current row\\n        for j in range(i + 1):\\n            # If the current element is the maximum element in the row\\n            if j == i:\\n'], 'def sum_digits_twoparts(N):\\n    A = closest(N)\\n    return sum_digits_single(A) + sum_digits_single(N - A)\\n\\ndef closest(N):\\n    ans = 0\\n    while (ans * 10 + 9 <= N):\\n        ans = ans * 10 + 9\\n    return ans\\n\\ndef sum_digits_single(x):\\n    ans = 0\\n    while x:\\n        ans += x % 10\\n        x //= 10\\n    return ans', ['def longest_subseq_with_diff_one(arr):\\n    n = len(arr)\\n    dp = [1] * n\\n    for i in range(1, n):\\n        for j in range(i):\\n            if abs(arr[i] - arr[j]) == 1:\\n                dp[i] = max(dp[i], dp[j] + 1)\\n    result = 1\\n    for i in range(n):\\n        if result < dp[i]:\\n            result = dp[i]\\n    return result\\n\\n'], 'def does_Contain_B(a, b, c):\\n    if a == b:\\n        return True\\n    if (b - a) * c > 0 and (b - a) % c == 0:\\n        return True\\n    return False', ['def is_coprime(x, y):\\n    return gcd(x, y) == 1\\n\\n', 'def gcd(p, q):\\n    while q != 0:\\n        p, q = q, p % q\\n    return p\\n\\n'], 'def merge_sort(arr):\\n    if len(arr) <= 1:\\n        return arr\\n    mid = len(arr) // 2\\n    left = merge_sort(arr[:mid])\\n    right = merge_sort(arr[mid:])\\n    return merge(left, right)\\n\\ndef merge(left, right):\\n    result = []\\n    while left and right:\\n        if left[0] <= right[0]:\\n            result.append(left.pop(0))\\n        else:\\n            result.append(right.pop(0))\\n    if left:\\n        result += left\\n    if right:\\n        result += right\\n    return result', ['def parabola_vertex(a, b, c):\\n    # Calculate the vertex of the parabola\\n    vertex = ((-b / (2 * a)), ((4 * a * c - b * b) / (4 * a)))\\n    return vertex\\n\\n'], 'def specified_element(nums, N):\\n    return [row[N] for row in nums]', 'def even_bit_toggle_number(n):\\n    res = 0\\n    for i in range(n.bit_length()):\\n        if n & (1 << i):\\n            res |= 1 << i\\n    return n ^ res', 'def tuple_int_str(tuple_str):\\n    return tuple(int(x) for x in tuple_str)', ['def encode_list(lst):\\n    result = []\\n    for key, group in groupby(lst):\\n        result.append([len(list(group)), key])\\n    return result\\n\\n'], 'def min_Ops(arr, n, k):\\n    max_val = max(arr)\\n    res = 0\\n    for i in range(n):\\n        if (max_val - arr[i]) % k != 0:\\n            return -1\\n        else:\\n            res += (max_val - arr[i]) // k\\n    return int(res)', [\"def month_season(month, days):\\n    if month in ('January', 'February', 'March'):\\n        season = 'winter'\\n    elif month in ('April', 'May', 'June'):\\n        season = 'spring'\\n    elif month in ('July', 'August', 'September'):\\n        season = 'summer'\\n    else:\\n        season = 'autumn'\\n\\n    if (month == 'March') and (days > 19):\\n        season = 'spring'\\n    elif (month == 'June') and (days > 20):\\n        season = 'summer'\\n    elif (month == 'September') and (days > 21):\\n        season = 'autumn'\\n\"], 'def solution(a, b, n):\\n    for i in range(n+1):\\n        if i * a == n:\\n            return (\"x = \", i, \", y = \", int((n - (i * a)) / b))\\n    return (\"No solution\")', ['def remove_elements(list1, list2):\\n    return [x for x in list1 if x not in list2]\\n\\n'], 'def sum_series(n):\\n    if n < 1:\\n        return 0\\n    else:\\n        return n + sum_series(n - 2)', ['def area_polygon(sides, length):\\n    return sides * length ** 2 / (4 * tan(pi / sides))\\n\\n'], 'import math\\n\\ndef div_sum(n):\\n    sum = 1\\n    for i in range(2, int(math.sqrt(n)) + 1):\\n        if n % i == 0:\\n            sum += i + math.floor(n / i)\\n    return sum\\n\\ndef are_equivalent(num1, num2):\\n    return div_sum(num1) == div_sum(num2)', ['def count_char_position(str1):\\n    count_chars = 0\\n    for i in range(len(str1)):\\n        if str1[i].isalpha():\\n            count_chars += 1\\n    return count_chars\\n\\n'], 'def find_even_pairs(A, N):\\n    even_pairs = 0\\n    for i in range(N):\\n        for j in range(i + 1, N):\\n            if (A[i] ^ A[j]) % 2 == 0:\\n                even_pairs += 1\\n    return even_pairs', 'def next_power_of_2(n):\\n    count = 0\\n    while n > 0:\\n        n >>= 1\\n        count += 1\\n    return 1 << count', 'def frequency(a, x):\\n    return a.count(x)', 'def get_pell(n):\\n    if n <= 2:\\n        return n\\n    a, b = 1, 2\\n    for i in range(3, n+1):\\n        a, b = b, 2*b + a\\n    return b', 'def sum_range_list(list1, m, n):\\n    return sum(list1[m:n+1])', ['def perimeter_pentagon(side_length):\\n    return 5 * side_length\\n\\n'], \"def count_occurance(s):\\n    count = 0\\n    for i in range(len(s) - 2):\\n        if s[i:i+2] == 'std':\\n            count += 1\\n    return count\", [\"def remove_splchar(text):\\n    pattern = re.compile(r'[\\\\W_]+')\\n    return pattern.sub('', text)\\n\\n\"], 'def group_keyvalue(l):\\n    return {k: list(v) for k, v in l}', 'def is_valid_parenthese(str1):\\n    stack = []\\n    for parenthese in str1:\\n        if parenthese in {\"(\", \"{\", \"[\"}:\\n            stack.append(parenthese)\\n        elif parenthese == \")\":\\n            if len(stack) == 0 or stack.pop() != \"(\":\\n                return False\\n        elif parenthese == \"}\":\\n            if len(stack) == 0 or stack.pop() != \"{\":\\n                return False\\n        elif parenthese == \"]\":\\n            if len(stack) == 0 or stack.pop() != \"[\":\\n                return False\\n    return len(stack) == 0', ['def perimeter_triangle(a, b, c):\\n    return a + b + c\\n\\n'], 'def find_lcm(L, R):\\n    if L > R:\\n        return -1\\n    if L == R:\\n        return L\\n    if 2 * L <= R:\\n        return (L, 2 * L)\\n    else:\\n        return (-1)', \"import re\\n\\ndef string_literals(patterns, text):\\n    for pattern in patterns:\\n        if re.search(pattern, text):\\n            return 'Matched!'\\n    return 'Not Matched!'\", 'def is_num_keith(x):\\n    terms = []\\n    temp = x\\n    n = 0\\n    while temp > 0:\\n        terms.append(temp % 10)\\n        temp = int(temp / 10)\\n        n += 1\\n    terms.reverse()\\n    next_term = 0\\n    i = n\\n    while next_term < x:\\n        next_term = 0\\n        for j in range(1, n + 1):\\n            next_term += terms[i - j]\\n        terms.append(next_term)\\n        i += 1\\n    return (next_term == x)', ['def distance_lat_long(slat, slon, elat, elon):\\n    # Convert latitude and longitude to radians\\n    slat_rad = radians(slat)\\n    slon_rad = radians(slon)\\n    elat_rad = radians(elat)\\n    elon_rad = radians(elon)\\n\\n    # Calculate distance\\n    dist = 6371.01 * acos(sin(slat_rad)*sin(elat_rad) + cos(slat_rad)*cos(elat_rad)*cos(slon_rad - elon_rad))\\n\\n    return dist\\n\\n'], 'def common_prefix(arr, n):\\n    prefix = arr[0]\\n    for i in range(1, n):\\n        prefix = common_prefix_util(prefix, arr[i])\\n    return prefix\\n\\ndef common_prefix_util(str1, str2):\\n    result = \"\"\\n    n1 = len(str1)\\n    n2 = len(str2)\\n    i = 0\\n    j = 0\\n    while i < n1 and j < n2:\\n        if str1[i] != str2[j]:\\n            break\\n        result += str1[i]\\n        i += 1\\n        j += 1\\n    return result', ['def find_character(string):\\n    # Use a set to store the unique characters in the string\\n    char_set = set()\\n    for char in string:\\n        char_set.add(char)\\n\\n    # Use a list comprehension to filter the characters based on their type\\n    uppercase_characters = [char for char in char_set if char.isupper()]\\n    lowercase_characters = [char for char in char_set if char.islower()]\\n    numerical_characters = [char for char in char_set if char.isdigit()]\\n'], ['def count_pairs(arr, n, k):\\n    count = 0\\n    for i in range(n):\\n        for j in range(i+1, n):\\n            if abs(arr[i] - arr[j]) == k:\\n                count += 1\\n    return count\\n\\n'], 'def greater_than(list, num):\\n    return all(x > num for x in list)', ['def parabola_focus(a, b, c):\\n    focus = ((-b / (2 * a)), ((4 * a * c - b * b + 1) / (4 * a)))\\n    return focus\\n\\n'], \"import re\\n\\ndef check_literals(text, patterns):\\n    for pattern in patterns:\\n        if re.search(pattern, text):\\n            return 'Matched!'\\n    return 'Not Matched!'\", ['def longest_common_subsequence(X, Y):\\n    m = len(X)\\n    n = len(Y)\\n    dp = [[0] * (n + 1) for _ in range(m + 1)]\\n\\n    for i in range(1, m + 1):\\n        for j in range(1, n + 1):\\n            if X[i - 1] == Y[j - 1]:\\n                dp[i][j] = 1 + dp[i - 1][j - 1]\\n            else:\\n                dp[i][j] = max(dp[i - 1][j], dp[i][j - 1])\\n\\n    return dp[m][n]\\n\\n'], ['def prod_Square(n):\\n    for i in range(2, int(n ** 0.5) + 1):\\n        j = int((n - i ** 2) ** 0.5)\\n        if j ** 2 == n - i ** 2:\\n            return True\\n    return False\\n\\n'], 'def first_missing_positive(arr, n):\\n    ptr = 0\\n    for i in range(n):\\n        if arr[i] == 1:\\n            ptr = 1\\n            break\\n    if ptr == 0:\\n        return 1\\n    for i in range(n):\\n        if arr[i] <= 0 or arr[i] > n:\\n            arr[i] = 1\\n    for i in range(n):\\n        arr[(arr[i] - 1) % n] += n\\n    for i in range(n):\\n        if arr[i] <= n:\\n            return i + 1\\n    return n + 1', 'def count_integral_points(x1, y1, x2, y2):\\n    width = x2 - x1 - 1\\n    height = y2 - y1 - 1\\n    return width * height', 'def check_monthnumber(monthname):\\n    return monthname in [\"April\", \"June\", \"September\", \"November\"]', 'def check_String(str):\\n    for char in str:\\n        if char.isalpha():\\n            return True\\n        if char.isdigit():\\n            return True\\n    return False', 'def remove_duplicates(my_tuple):\\n    return tuple(set(my_tuple))', 'def octal_to_decimal(n):\\n    dec_value = 0\\n    base = 1\\n    for digit in str(n):\\n        dec_value += int(digit) * base\\n        base *= 8\\n    return dec_value', ['def first(arr, x, n):\\n    low = 0\\n    high = n - 1\\n    res = -1\\n    while low <= high:\\n        mid = (low + high) // 2\\n        if arr[mid] > x:\\n            high = mid - 1\\n        elif arr[mid] < x:\\n            low = mid + 1\\n        else:\\n            res = mid\\n            high = mid - 1\\n    return res\\n\\n'], 'def remove_tuples(test_list, K):\\n    return [ele for ele in test_list if len(ele) != K]', 'def find_exponentio(test_tup1, test_tup2):\\n    return tuple(ele1 ** ele2 for ele1, ele2 in zip(test_tup1, test_tup2))', ['def largest_triangle(a, b):\\n    if a < 0 or b < 0:\\n        return -1\\n    area = (3 * math.sqrt(3) * pow(a, 2)) / (4 * b)\\n    return area\\n\\n'], 'def highest_power_of_2(n):\\n    res = 0\\n    for i in range(n, 0, -1):\\n        if i & (i - 1) == 0:\\n            res = i\\n            break\\n    return res', ['def position_max(list1):\\n    return [i for i, j in enumerate(list1) if j == max(list1)]\\n\\n'], 'def chkList(lst):\\n    return len(set(lst)) == 1', \"def remove_even(str1):\\n    return ''.join([c for i, c in enumerate(str1) if i % 2])\", 'def hamming_distance(n1, n2):\\n    x = n1 ^ n2\\n    set_bits = 0\\n    while x > 0:\\n        set_bits += x & 1\\n        x >>= 1\\n    return set_bits', 'def count(s, c):\\n    return s.count(c)', 'def inversion_elements(test_tup):\\n    return tuple(map(lambda x: ~x, test_tup))', 'def concatenate_elements(test_tup):\\n    res = tuple(i + j for i, j in zip(test_tup, test_tup[1:]))\\n    return res', 'def find_longest_repeating_subseq(str):\\n    n = len(str)\\n    dp = [[0] * (n + 1) for _ in range(n + 1)]\\n    for i in range(1, n + 1):\\n        for j in range(1, n + 1):\\n            if str[i - 1] == str[j - 1] and i != j:\\n                dp[i][j] = 1 + dp[i - 1][j - 1]\\n            else:\\n                dp[i][j] = max(dp[i][j - 1], dp[i - 1][j])\\n    return dp[n][n]', ['def is_decimal(num):\\n    pattern = r\"^[0-9]+(\\\\.[0-9]{1,2})?$\"\\n    return bool(re.search(pattern, num))\\n\\n'], ['def heap_replace(heap, a):\\n    hq.heapify(heap)\\n    hq.heapreplace(heap, a)\\n    return heap\\n\\n'], [\"def is_allowed_specific_char(string):\\n    pattern = re.compile(r'[^a-zA-Z0-9.]')\\n    return not pattern.search(string)\\n\\n\"], 'def count_Num(n):\\n    if n == 1:\\n        return 1\\n    count = pow(2, n - 2)\\n    return count', ['def fourth_Power_Sum(n):\\n    return sum(i**4 for i in range(1, n+1))\\n\\n'], 'def concatenate_strings(test_tup1, test_tup2):\\n    return tuple(ele1 + ele2 for ele1, ele2 in zip(test_tup1, test_tup2))', 'import math\\n\\ndef radians_to_degrees(radians):\\n    return radians * (180 / math.pi)', ['def decode_list(alist):\\n    decoded_list = []\\n    for g in alist:\\n        if isinstance(g, list):\\n            for i in range(g[0]):\\n                decoded_list.append(g[1])\\n        else:\\n            decoded_list.append(g)\\n    return decoded_list\\n\\n'], 'def check_subset_list(list1, list2):\\n    return all(x in list1 for x in list2)', \"def first_repeated_char(s):\\n    seen = set()\\n    for c in s:\\n        if c in seen:\\n            return c\\n        seen.add(c)\\n    return '\\\\0'\", ['def min_operations(A, B):\\n    if A > B:\\n        A, B = B, A\\n'], ['def extract_min_max(test_tup, K):\\n    res = []\\n    for i in range(K):\\n        res.append(min(test_tup))\\n        test_tup.remove(min(test_tup))\\n    for i in range(K):\\n        res.append(max(test_tup))\\n        test_tup.remove(max(test_tup))\\n    return tuple(res)\\n\\n'], ['def replace_max_specialchar(text, n):\\n    pattern = r\"[ ,.]\"\\n    replacement = \":\"\\n    return re.sub(pattern, replacement, text, n)\\n\\n'], ['def first_even(nums):\\n    for num in nums:\\n        if num % 2 == 0:\\n            return num\\n    return -1\\n\\n'], 'def check_type(test_tuple):\\n    return all(isinstance(ele, type(test_tuple[0])) for ele in test_tuple)', ['def is_majority(arr, n, x):\\n    i = binary_search(arr, 0, n-1, x)\\n    if i == -1:\\n        return False\\n    if (i + n//2) <= (n -1) and arr[i + n//2] == x:\\n        return True\\n    else:\\n        return False\\n\\n', 'def binary_search(arr, low, high, x):\\n    if high >= low:\\n        mid = (low + high)//2\\n        if (mid == 0 or x > arr[mid-1]) and (arr[mid] == x):\\n            return mid\\n        elif x > arr[mid]:\\n            return binary_search(arr, (mid + 1), high, x)\\n        else:\\n'], 'def count_set_bits(n):\\n    count = 0\\n    while n:\\n        count += n & 1\\n        n >>= 1\\n    return count', 'def find_min(arr, low, high):\\n    while low < high:\\n        mid = (low + high) // 2\\n        if arr[mid] == arr[high]:\\n            high -= 1\\n        elif arr[mid] > arr[high]:\\n            low = mid + 1\\n        else:\\n            high = mid\\n    return arr[high]', [\"def odd_values_string(s):\\n    return ''.join(s[i] for i in range(len(s)) if i % 2 == 0)\\n\\n\"], ['def min_of_three(a, b, c):\\n    return min(a, b, c)\\n\\n'], ['def all_bits_set_in_range(n, l, r):\\n    num = (((1 << r) - 1) ^ ((1 << (l - 1)) - 1))\\n    return (n & num) == 0\\n\\n'], 'def re_arrange_array(arr):\\n    negative_indices = [i for i, x in enumerate(arr) if x < 0]\\n    positive_indices = [i for i, x in enumerate(arr) if x >= 0]\\n    return [arr[i] for i in negative_indices + positive_indices]', 'def replace_blank(str1, char):\\n    return str1.replace(\" \", char)', ['def max_sum(tri, n):\\n    if n > 1:\\n        tri[1][1] = tri[1][1] + tri[0][0]\\n        tri[1][0] = tri[1][0] + tri[0][0]\\n    for i in range(2, n):\\n        tri[i][0] = tri[i][0] + tri[i-1][0]\\n        tri[i][i] = tri[i][i] + tri[i-1][i-1]\\n        for j in range(1, i):\\n            if tri[i][j] + tri[i-1][j-1] >= tri[i][j] + tri[i-1][j]:\\n'], 'import heapq\\n\\ndef get_largest_n(dataset, n):\\n    return heapq.nlargest(n, dataset)', ['def lateral_surface_cylinder(r, h):\\n    return 2 * 3.1415 * r * h\\n\\n'], ['def volume_cube(l):\\n'], 'def even_bit_set_number(n):\\n    mask = 1 << (n.bit_length() - 1)\\n    while mask:\\n        if n & mask:\\n            n |= mask\\n        mask >>= 1\\n    return n', 'def count_equilateral_triangles(N, K):\\n    if N < K:\\n        return -1\\n    else:\\n        return (N - K + 1) * (N - K + 2) // 2 + (N - 2 * K + 1) * (N - 2 * K + 2) // 2', 'from collections import Counter\\n\\ndef check_occurences(test_list):\\n    # Create a dictionary with the sorted tuples as keys and their counts as values\\n    counts = Counter(tuple(sorted(ele)) for ele in test_list)\\n\\n    # Return the dictionary with the counts of each tuple\\n    return counts', 'def number_of_substrings(s):\\n    return sum(1 for i in range(len(s)) if s[i])', 'def get_total_number_of_sequences(m, n):\\n    T = [[0] * (n + 1) for _ in range(m + 1)]\\n    for i in range(m + 1):\\n        for j in range(n + 1):\\n            if i == 0 or j == 0:\\n                T[i][j] = 0\\n            elif i < j:\\n                T[i][j] = 0\\n            elif j == 1:\\n                T[i][j] = i\\n            else:\\n                T[i][j] = T[i - 1][j] + T[i // 2][j - 1]\\n    return T[m][n]', 'def replace_list(list1, list2):\\n    list1[-1:] = list2\\n    return list1', \"def array_3d(m, n, o):\\n    return [[['*' for _ in range(m)] for _ in range(n)] for _ in range(o)]\", 'def count_characters(string):\\n    return len(string)', 'def sort_on_occurence(lst):\\n    dct = {}\\n    for i, j in lst:\\n        dct.setdefault(i, []).append(j)\\n    return ([(i, *dict.fromkeys(j), len(j)) for i, j in dct.items()])', 'import math\\n\\ndef next_perfect_square(n):\\n    return (n + 1) ** 0.5', ['def max_sum(arr):\\n    # Find the maximum sum of a monotonically increasing subsequence\\n    # in the given array\\n    n = len(arr)\\n    MSIBS = [0] * (n + 1)\\n    MSDBS = [0] * (n + 1)\\n\\n    for i in range(1, n + 1):\\n        for j in range(1, i):\\n            if arr[i - 1] > arr[i - j - 1] and MSIBS[i] < MSIBS[i - j] + arr[i - 1]:\\n                MSIBS[i] = MSIBS[i - j] + arr[i - 1]\\n\\n'], 'def babylonian_squareroot(number):\\n    if number == 0:\\n        return 0\\n    g = number / 2.0\\n    while abs(g * g - number) > 1e-10:\\n        g = (g + number / g) / 2\\n    return g', ['def lps(str):\\n    n = len(str)\\n    L = [[0] * n for _ in range(n)]\\n    for i in range(n):\\n        L[i][i] = 1\\n    for cl in range(2, n + 1):\\n        for i in range(n - cl + 1):\\n            j = i + cl - 1\\n            if str[i] == str[j] and cl == 2:\\n                L[i][j] = 2\\n            elif str[i] == str[j]:\\n                L[i][j] = L[i + 1][j - 1] + 2\\n            else:\\n'], 'def harmonic_sum(n):\\n    if n < 2:\\n        return 1\\n    else:\\n        return 1 / n + harmonic_sum(n - 1)', ['def intersection_array(array_nums1, array_nums2):\\n    return list(filter(lambda x: x in array_nums1, array_nums2))\\n\\n'], 'def count_X(tup, x):\\n    return sum(1 for ele in tup if ele == x)', ['def insert_element(my_list, element):\\n    return [element] + my_list\\n\\n'], 'import cmath\\n\\ndef convert(numbers):\\n    return [cmath.polar(num) for num in numbers]', ['def count_integers(my_list):\\n    return sum(1 for x in my_list if isinstance(x, int))\\n\\n'], ['def words_ae(text):\\n    return [word for word in re.findall(r\"[ae]\\\\w+\", text) if word]\\n\\n'], 'from itertools import combinations_with_replacement\\n\\ndef choose_colors(colors, num_colors):\\n    return list(combinations_with_replacement(colors, num_colors))', ['def count_Primes_nums(n):\\n    ctr = 0\\n    for num in range(2, n):\\n        for i in range(2, int(num ** 0.5) + 1):\\n            if num % i == 0:\\n                break\\n        else:\\n            ctr += 1\\n    return ctr\\n\\n'], ['def swap_numbers(a, b):\\n    return (b, a)\\n\\n'], ['def count_odd(array_nums):\\n    return len([x for x in array_nums if x % 2 != 0])\\n\\n'], 'def maximize_elements(test_tup1, test_tup2):\\n    return tuple(max(a, b) for a, b in zip(tup1, tup2) for tup1, tup2 in zip(test_tup1, test_tup2))', 'def newman_prime(n):\\n    if n == 0 or n == 1:\\n        return 1\\n    else:\\n        return 2 * newman_prime(n - 1) + newman_prime(n - 2)', 'def division_elements(test_tup1, test_tup2):\\n    return tuple(ele1 // ele2 for ele1, ele2 in zip(test_tup1, test_tup2))', ['def split_two_parts(list1, L):\\n    return list1[:L], list1[L:]\\n\\n'], 'def merge_dict(d1, d2):\\n    return {**d1, **d2}', ['def dog_age(h_age):\\n    if h_age < 0:\\n        exit()\\n    if h_age <= 2:\\n        d_age = h_age * 10.5\\n    else:\\n        d_age = 21 + (h_age - 2) * 4\\n    return d_age\\n\\n'], 'def list_split(S, step):\\n    return [S[i::step] for i in range(step)]', ['def lateral_surface_area_cube(side_length):\\n    return 4 * side_length ** 2\\n\\n'], 'def square_sum(n):\\n    return sum(x**2 for x in range(1, n+1, 2))', 'def find_star_num(n):\\n    return (6 * n * (n - 1) + 1)', ['def ascii_value(k):\\n    return ord(k)\\n\\n'], 'def sum_even_and_even_index(arr, n):\\n    return sum(arr[i] for i in range(0, n, 2) if arr[i] % 2 == 0)', 'def even_power_sum(n):\\n    return sum(j*j*j*j*j for i in range(1, n+1) for j in range(2*i, 2*(i+1), 2))', 'def rear_extract(test_list):\\n    return [lis[-1] for lis in test_list]', 'def substract_elements(test_tup1, test_tup2):\\n    return tuple(map(lambda i, j: i - j, test_tup1, test_tup2))', 'def even_binomial_coeff_sum(n):\\n    return (1 << (n - 1))', ['def get_Position(a, n, m):\\n    # Initialize result variable\\n    result = -1\\n\\n    # Iterate through the array and calculate the position of each element\\n    for i in range(n):\\n        position = i + 1\\n        result = max(result, position)\\n\\n    return result\\n\\n'], ['def volume_cylinder(r, h):\\n    return 3.1415 * r ** 2 * h\\n\\n'], 'def dict_filter(dict, n):\\n    return {key: value for key, value in dict.items() if value >= n}', 'def count_first_elements(test_tup):\\n    count = 0\\n    for ele in test_tup:\\n        if isinstance(ele, tuple):\\n            break\\n        count += 1\\n    return count', 'def is_num_decagonal(n):\\n    return (4 * n * n - 3 * n) == 0', ['def sequential_search(dlist, item):\\n    for i, elem in enumerate(dlist):\\n        if elem == item:\\n            return True, i\\n'], ['def all_unique(test_list):\\n    return len(test_list) == len(set(test_list))\\n\\n'], 'def sub_list(nums1, nums2):\\n    return [x - y for x, y in zip(nums1, nums2)]', 'def validate(n):\\n    for digit in range(10):\\n        count = 0\\n        while n:\\n            if n % 10 == digit:\\n                count += 1\\n            if count > digit:\\n                return False\\n            n //= 10\\n    return True', 'def check_element(my_list, element):\\n    return all(item == element for item in my_list)', 'import re\\n\\ndef text_match_two_three(text):\\n    pattern = r\"ab{2,3}\"\\n    if re.search(pattern, text):\\n        return \"Found a match!\"\\n    else:\\n        return \"Not matched!\"', ['def max_sub_array_sum_repeated(a, n, k):\\n    # Initialize variables\\n    max_so_far = -2147483648\\n    max_ending_here = 0\\n\\n    # Iterate over the array k times\\n    for _ in range(k):\\n        # Iterate over the array once\\n        for i in range(n):\\n            # Update the maximum sum\\n            max_ending_here = max_ending_here + a[i]\\n            if max_so_far < max_ending_here:\\n                max_so_far = max_ending_here\\n            # Reset the maximum sum if it is negative\\n            if max_ending_here < 0:\\n                max_ending_here = 0\\n\\n'], 'def square_sum(n):\\n    return sum(x**2 for x in range(2, n+1, 2))', ['def modular_inverse(arr, N, P):\\n    return sum(1 for i in range(N) if (arr[i] * arr[i]) % P == 1)\\n\\n'], ['def odd_Days(year):\\n    leap_years = year // 4 - year // 100 + year // 400\\n    odd_days = year - leap_years\\n    if year % 100 == 0:\\n        odd_days += 1\\n    if year % 400 == 0:\\n        odd_days -= 1\\n    return (odd_days + leap_years * 2) % 7\\n\\n'], 'def max_length(list1):\\n    return max(len(x) for x in list1)', 'def count_no_of_ways(n, k):\\n    dp = [0] * (n + 1)\\n    total = k\\n    mod = 1000000007\\n    dp[1] = k\\n    dp[2] = k * k\\n    for i in range(3, n + 1):\\n        dp[i] = ((k - 1) * (dp[i - 1] + dp[i - 2])) % mod\\n    return dp[n]', 'def find_quotient(n, m):\\n    return n // m', ['def find_third_side(w, h):\\n    return math.sqrt(w**2 + h**2)\\n\\n'], ['def max_val(listval):\\n    return max(i for i in listval if isinstance(i, int))\\n\\n'], ['def sum_div(number):\\n    divisors = [1]\\n    for i in range(2, int(number ** 0.5) + 1):\\n        if number % i == 0:\\n            divisors.append(i)\\n            if number // i != i:\\n                divisors.append(number // i)\\n    return sum(divisors)\\n\\n'], ['def get_inv_count(arr):\\n    inv_count = 0\\n    for i in range(len(arr)):\\n        for j in range(i + 1, len(arr)):\\n            if arr[i] > arr[j]:\\n                inv_count += 1\\n    return inv_count\\n\\n'], ['def flatten_list(list1):\\n    result_list = []\\n    if not list1:\\n        return result_list\\n    stack = [list(list1)]\\n    while stack:\\n        c_num = stack.pop()\\n        next = c_num.pop()\\n        if c_num:\\n            stack.append(c_num)\\n        if isinstance(next, list):\\n            if next:\\n                stack.append(list(next))\\n        else:\\n            result_list.append(next)\\n    result_list.reverse()\\n    return result_list\\n\\n'], 'def intersection_nested_lists(l1, l2):\\n    return [[n for n in lst if n in l1] for lst in l2]', 'from collections import defaultdict\\n\\ndef max_aggregate(stdata):\\n    temp = defaultdict(int)\\n    for name, marks in stdata:\\n        temp[name] += marks\\n    return max(temp.items(), key=lambda x: x[1])', 'def count_binary_seq(n):\\n    res = 0\\n    for i in range(1 << n):\\n        if sum(bin(i)[2:].zfill(n)) == sum(bin(i)[n+1:].zfill(n)):\\n            res += 1\\n    return res', ['def dict_depth(d):\\n    if isinstance(d, dict):\\n        return 1 + max(map(dict_depth, d.values()))\\n    return 0\\n'], 'def set_bit_number(n):\\n    if n == 0:\\n        return 0\\n    msb = 0\\n    while n > 0:\\n        n >>= 1\\n        msb += 1\\n    return 1 << msb', 'def check_inversions(a, n):\\n    count = 0\\n    for i in range(n):\\n        for j in range(i, n):\\n            if a[i] > a[j]:\\n                count += 1\\n    return count == n * (n - 1) // 2', 'def find_element(arr, ranges, rotations, index):\\n    for i in range(rotations - 1, -1, -1):\\n        left = ranges[i][0]\\n        right = ranges[i][1]\\n        if left <= index and right >= index:\\n            if index == left:\\n                index = right\\n            else:\\n                index = index - 1\\n    return arr[index]', 'import re\\n\\ndef start_withp(words):\\n    for w in words:\\n        m = re.match(r\"(P\\\\w+)\\\\W(P\\\\w+)\", w)\\n        if m:\\n            return m.groups()', 'def max_sum_increasing_subseq(a, n, index, k):\\n    dp = [[0] * n for _ in range(n)]\\n    for i in range(n):\\n        dp[i][i] = a[i]\\n    for i in range(n - 1):\\n        for j in range(i + 1, n):\\n            dp[i][j] = max(dp[i][j - 1], a[j] + dp[i][j - 1])\\n    return dp[index][k]', 'from copy import deepcopy\\n\\ndef get_colon_of_tuple(tuplex, m, n):\\n    tuplex_colon = deepcopy(tuplex)\\n    tuplex_colon[m].append(n)\\n    return tuplex_colon[m]', ['def large_product(nums1, nums2, N):\\n    result = []\\n    for x in nums1:\\n        for y in nums2:\\n            result.append(x * y)\\n    result = sorted(result, reverse=True)[:N]\\n    return result\\n\\n'], ['def maximum(a, b):\\n    return a if a >= b else b\\n\\n'], ['def string_to_tuple(str1):\\n    return tuple(filter(lambda x: not x.isspace(), str1))\\n\\n'], 'def set_left_most_unset_bit(n):\\n    while not (n & (n + 1)):\\n        n |= (1 << (n.bit_length() - 1))\\n    return n', ['def volume_cone(r, h):\\n    return (1.0/3) * math.pi * r * r * h\\n\\n'], 'def print_positive_numbers(numbers):\\n    for num in numbers:\\n        if num > 0:\\n            print(num)', ['def max_sum_rectangular_grid(grid, n):\\n    # Initialize the maximum sum\\n    max_sum = 0\\n\\n    # Loop through each row of the grid\\n    for i in range(n):\\n        # Get the maximum sum for the current row\\n        max_sum_row = max(grid[0][i], grid[1][i])\\n\\n        # Update the maximum sum\\n        max_sum = max(max_sum, max_sum_row)\\n\\n    return max_sum\\n'], 'def find_max_even_word(str):\\n    max_len = 0\\n    start = -1\\n    for i, char in enumerate(str):\\n        if char == \\' \\':\\n            if i % 2 == 0:\\n                if max_len < i - start:\\n                    max_len = i - start\\n                    start = i\\n        else:\\n            if i % 2 == 0:\\n                if max_len < i - start:\\n                    max_len = i - start\\n                    start = i\\n    if start == -1:\\n        return \"-1\"\\n    return str[start:start + max_len]', ['def find_last_occurrence(A, x):\\n    left, right = 0, len(A) - 1\\n    result = -1\\n    while left <= right:\\n        mid = (left + right) // 2\\n        if x == A[mid]:\\n            result = mid\\n            left = mid + 1\\n        elif x < A[mid]:\\n            right = mid - 1\\n        else:\\n            left = mid + 1\\n    return result\\n\\n'], 'from itertools import groupby\\n\\ndef modified_encode(alist):\\n    return [[len(list(group)), list(group)[0]] for key, group in groupby(alist)]', 'def max_volume(s):\\n    max_value = 0\\n    for i in range(s - 1):\\n        for j in range(s):\\n            k = s - i - j\\n            max_value = max(max_value, i * j * k)\\n    return max_value', ['def find_long_word(text):\\n    pattern = r\"\\\\b\\\\w{5}\\\\b\"\\n    return re.findall(pattern, text)\\n\\n'], ['def sum_difference(n):\\n    sum_of_squares = sum(i**2 for i in range(1, n+1))\\n    square_of_sum = (n * (n+1))**2 / 4\\n    return square_of_sum - sum_of_squares\\n\\n'], 'def find_demlo(s):\\n    l = len(s)\\n    res = \"\"\\n    for i in range(1, l + 1):\\n        res += str(i)\\n    for i in range(l - 1, 0, -1):\\n        res += str(i)\\n    return res', ['def position_min(list1):\\n    return [i for i, j in enumerate(list1) if j == min(list1)]\\n\\n'], ['def re_arrange(arr):\\n    # Find the first out-of-place element\\n    out_of_place = None\\n    for i in range(len(arr)):\\n        if arr[i] < 0 and (i % 2 == 0 or out_of_place is None):\\n            out_of_place = i\\n            break\\n    # Reverse the array from the out-of-place element\\n    if out_of_place is not None:\\n        arr[out_of_place:] = arr[out_of_place:][::-1]\\n    # Reverse the array from the beginning\\n    arr[:out_of_place] = arr[:out_of_place][::-1]\\n    return arr\\n'], 'def sum_of_alternates(test_tuple):\\n    sum1 = 0\\n    sum2 = 0\\n    for idx, ele in enumerate(test_tuple):\\n        if idx % 2:\\n            sum1 += ele\\n        else:\\n            sum2 += ele\\n    return (sum1, sum2)', 'def get_min_squares(n):\\n    if n <= 3:\\n        return n\\n    res = n\\n    for x in range(1, n + 1):\\n        temp = x * x\\n        if temp > n:\\n            break\\n        else:\\n            res = min(res, 1 + get_min_squares(n - temp))\\n    return res', 'from collections import Counter\\n\\ndef most_occurrences(test_list):\\n    word_counts = Counter()\\n    for sub in test_list:\\n        for word in sub.split():\\n            word_counts[word] += 1\\n    return word_counts.most_common(1)[0][0]', 'def check_isosceles(x, y, z):\\n    return x == y or y == z or z == x', ['def rotate_left(list1, m, n):\\n    return list1[m:] + list1[:n]\\n\\n'], ['def neg_count(my_list):\\n    return sum(1 for x in my_list if x < 0)\\n\\n'], ['def find_char(text):\\n    pattern = r\"\\\\b\\\\w{3,5}\\\\b\"\\n    return re.findall(pattern, text)\\n\\n'], 'def count_unset_bits(n):\\n    count = 0\\n    for i in range(n.bit_length()):\\n        if n & (1 << i) == 0:\\n            count += 1\\n    return count', 'def char_frequency(str1):\\n    return {char: str1.count(char) for char in set(str1)}', 'def sort_sublist(sub_li):\\n    return sorted(sub_li, key=lambda x: x[1])', 'def check_Validity(a, b, c):\\n    return (a + b > c) and (a + c > b) and (b + c > a)', ['def ap_sum(a, n, d):\\n    return (n * (2 * a + (n - 1) * d)) / 2\\n\\n'], 'def check_monthnum(monthname):\\n    return monthname == \"February\"', 'import re\\n\\ndef text_match_word(text):\\n    pattern = r\"\\\\w+\\\\S*$\"\\n    if re.search(pattern, text):\\n        return \"Found a match!\"\\n    else:\\n        return \"Not matched!\"', 'def count_substrings_with_equal_ends(s):\\n    result = 0\\n    for i in range(len(s)):\\n        if s[i] == s[-i-1]:\\n            result += 1\\n    return result', 'def find_divisor(x, y):\\n    if x == y:\\n        return y\\n    for i in range(x, y + 1):\\n        if i % 2 == 0:\\n            return i\\n    return 1', ['def sum_three_smallest_nums(lst):\\n    # Sort the list in ascending order\\n    sorted_lst = sorted(lst)\\n\\n    # Find the three smallest positive numbers\\n    smallest_nums = [num for num in sorted_lst if num > 0][:3]\\n\\n    # Return the sum of the three smallest positive numbers\\n    return sum(smallest_nums)\\n\\n'], 'def set_to_tuple(s):\\n    return tuple(sorted(s))', [\"def find_minimum_range(lists):\\n    high = float('-inf')\\n    p = (0, float('inf'))\\n    pq = []\\n    for i, lst in enumerate(lists):\\n        heappush(pq, (lst[0], i, 0))\\n        high = max(high, lst[0])\\n\\n    while True:\\n        top = heappop(pq)\\n        low = top[0]\\n        i = top[1]\\n        j = top[2]\\n        if high - low < p[1] - p[0]:\\n            p = (low, high)\\n        if j == len(lists[i]) - 1:\\n            return p\\n\"], ['def dig_let(s):\\n    d = 0\\n    l = 0\\n    for c in s:\\n        if c.isdigit():\\n            d += 1\\n        elif c.isalpha():\\n            l += 1\\n        else:\\n            pass\\n    return l, d\\n\\n'], 'def count_odd_factors(n, m):\\n    count = 0\\n    for i in range(n, m + 1):\\n        if i % 2 != 0:\\n            count += 1\\n    return count', ['def diff_consecutivenums(nums):\\n    return [b - a for a, b in zip(nums[:-1], nums[1:])]\\n\\n'], 'def zigzag(n, k):\\n    if n == 0 and k == 0:\\n        return 1\\n    if k == 0:\\n        return 0\\n    return zigzag(n, k - 1) + zigzag(n - 1, n - k)', 'def count_squares(m, n):\\n    if n < m:\\n        m, n = n, m\\n    return n * (n + 1) * (3 * m - n + 1) // 6', 'def count_sequences(n, r):\\n    val = 1\\n    if r > (n - r):\\n        r = (n - r)\\n    for i in range(0, r):\\n        val *= (n - i)\\n        val //= (i + 1)\\n    return val\\n\\ndef find_ways(M):\\n    n = M // 2\\n    a = count_sequences(2 * n, n)\\n    b = a // (n + 1)\\n    return b', \"def check_binary_string(string):\\n    return all(c in {'0', '1'} for c in string)\", \"def minimum_Length(s):\\n    max_occ = 0\\n    n = len(s)\\n    arr = [0] * 26\\n    for i in range(n):\\n        arr[ord(s[i]) - ord('a')] += 1\\n    for i in range(26):\\n        if arr[i] > max_occ:\\n            max_occ = arr[i]\\n    return n - max_occ\", 'def first_element(arr, n, k):\\n    count_map = {}\\n    for i in range(n):\\n        if arr[i] in count_map:\\n            count_map[arr[i]] += 1\\n        else:\\n            count_map[arr[i]] = 1\\n\\n    for i in range(n):\\n        if count_map[arr[i]] == k:\\n            return arr[i]\\n\\n    return -1', 'def unique_characters(str):\\n    return len(set(str)) == len(str)', ['def remove_column(list1, n):\\n    return [row[:n] + row[n+1:] for row in list1]\\n\\n'], ['def tn_ap(a, n, d):\\n    return a + (n - 1) * d\\n\\n'], 'def count_Rectangles(radius):\\n    rectangles = 0\\n    diameter = 2 * radius\\n    diameter_square = diameter * diameter\\n    for a in range(1, 2 * radius):\\n        for b in range(1, 2 * radius):\\n            diagnal_length_square = (a * a + b * b)\\n            if diagnal_length_square <= diameter_square:\\n                rectangles += 1\\n    return rectangles', 'def find_angle(a, b):\\n    return 180 - (a + b)', 'def find_max(test_list):\\n    return max(int(j) for i in test_list for j in i)', ['def moddiv_list(nums1, nums2):\\n    return [x % y for x, y in zip(nums1, nums2)]\\n\\n'], 'def check_solution(a, b, c):\\n    return \"Yes\" if 2 * b * b == 9 * a * c else \"No\"', 'def get_carol(n):\\n    return (2**n) - 1', ['def remove_empty(list_of_lists):\\n    return [sublist for sublist in list_of_lists if sublist]\\n\\n'], ['def max_occurrences(nums):\\n    counts = {}\\n    for num in nums:\\n        counts[num] = counts.get(num, 0) + 1\\n    max_val = max(counts.values())\\n    result = [k for k, v in counts.items() if v == max_val][0]\\n'], 'def add_k_elements(test_list, k):\\n    return [(j + k) for j in test_list]', \"def min_flip_to_make_string_alternate(str):\\n    flip_count = 0\\n    for i in range(len(str)):\\n        if str[i] != '0' and str[i] != '1':\\n            flip_count += 1\\n    return flip_count\", ['def count_digits(n):\\n    count = 0\\n    while n > 0:\\n        count += 1\\n        n //= 10\\n    return count\\n\\n'], ['def adjacent_num_product(list_nums):\\n    # Initialize a variable to store the largest product\\n    largest_product = 0\\n\\n    # Iterate through the list of integers\\n    for i in range(len(list_nums) - 1):\\n        # Calculate the product of the current and next integers\\n        product = list_nums[i] * list_nums[i + 1]\\n\\n        # Update the largest product if the current product is larger than the previous largest product\\n        if product > largest_product:\\n            largest_product = product\\n\\n    return largest_product\\n\\n'], ['def __init__(self, data):\\n        self.data = data\\n        self.left = None\\n        self.right = None\\n\\n', 'def get_height(root):\\n    if root is None:\\n        return 0\\n    return max(get_height(root.left), get_height(root.right)) + 1\\n\\n', 'def is_tree_balanced(root):\\n    if root is None:\\n        return True\\n    lh = get_height(root.left)\\n    rh = get_height(root.right)\\n    if abs(lh - rh) <= 1 and is_tree_balanced(root.left) is True and is_tree_balanced(root.right) is True:\\n        return True\\n    return False\\n'], 'def repeat_tuples(test_tup, N):\\n    return ((test_tup, ) * N)', ['def lateral_surface_area(l, w, h):\\n    return 2 * h * (l + w)\\n\\n'], ['def float_sort(price):\\n    return sorted(price, key=lambda x: float(x[1]), reverse=True)\\n\\n'], 'def smallest_missing(A, left_element, right_element):\\n    while left_element <= right_element:\\n        mid = left_element + (right_element - left_element) // 2\\n        if A[mid] == mid:\\n            left_element = mid + 1\\n        else:\\n            right_element = mid - 1\\n    return left_element', ['def heap_sort(nums):\\n    hq.heapify(nums)\\n    s_result = [hq.heappop(nums) for i in range(len(nums))]\\n    return s_result\\n\\n'], ['def volume_cuboid(l, w, h):\\n    return l * w * h\\n\\n'], [\"def permute_string(str):\\n    if not str:\\n        return ['']\\n    prev_list = permute_string(str[1:])\\n    next_list = []\\n    for i in range(len(prev_list)):\\n        for j in range(len(str)):\\n            new_str = prev_list[i][:j] + str[0] + prev_list[i][j:]\\n            if new_str not in next_list:\\n                next_list.append(new_str)\\n    return next_list\\n\\n\"], 'def round_num(n, m):\\n    return (n // m) * m', \"def remove_replica(test_tup):\\n    seen = set()\\n    return tuple(ele if ele not in seen and not seen.add(ele) else 'MSP' for ele in test_tup)\", \"def remove_char(s, c):\\n    counts = s.count(c)\\n    for _ in range(counts):\\n        s = s.replace(c, '')\\n    return s\", 'def move_first(test_list):\\n    return test_list[-1:] + test_list[:-1]', ['def surface_area_cuboid(l, w, h):\\n    return 2 * (l * w + l * h + w * h)\\n\\n'], 'def multi_list(rownum, colnum):\\n    multi_list = [[0] * colnum for _ in range(rownum)]\\n    for row in range(rownum):\\n        for col in range(colnum):\\n            multi_list[row][col] = row * col\\n    return multi_list', ['def sort_inner_lists(list_data, index_no):\\n    return sorted(list_data, key=lambda x: x[index_no])\\n\\n'], ['def find_rotation_count(A):\\n    left, right = 0, len(A) - 1\\n    while left <= right:\\n        if A[left] <= A[right]:\\n            return left\\n        mid = (left + right) // 2\\n        next = (mid + 1) % len(A)\\n        prev = (mid - 1 + len(A)) % len(A)\\n        if A[mid] <= A[next] and A[mid] <= A[prev]:\\n            return mid\\n        elif A[mid] <= A[right]:\\n            right = mid - 1\\n        elif A[mid] >= A[left]:\\n            left = mid + 1\\n    return -1\\n\\n'], 'def toggle_odd_bits(n):\\n    res = 0\\n    for i in range(32):\\n        if n & (1 << i):\\n            res |= 1 << i\\n    return n ^ res', 'def frequency_of_smallest(arr):\\n    smallest = arr[0]\\n    frequency = 1\\n    for i in range(1, len(arr)):\\n        if arr[i] == smallest:\\n            frequency += 1\\n    return frequency', ['def get_perrin(n):\\n    if n == 0:\\n        return 3\\n    elif n == 1:\\n        return 0\\n    elif n == 2:\\n        return 2\\n    else:\\n'], \"def swap_count(s):\\n    count_left = 0\\n    count_right = 0\\n    imbalance = 0\\n    for char in s:\\n        if char == '[':\\n            count_left += 1\\n        elif char == ']':\\n            count_right += 1\\n            imbalance = count_right - count_left\\n    return imbalance\", 'def even_or_odd(N):\\n    if N[-1] in [\\'0\\', \\'2\\', \\'4\\', \\'6\\', \\'8\\', \\'A\\', \\'C\\', \\'E\\']:\\n        return \"Even\"\\n    else:\\n        return \"Odd\"', 'def highest_power_of_2(n):\\n    res = 0\\n    for i in range(n, 0, -1):\\n        if i & (i - 1) == 0:\\n            res = i\\n            break\\n    return res', 'def find_lucas(n):\\n    if n == 0:\\n        return 2\\n    elif n == 1:\\n        return 1\\n    else:\\n        return find_lucas(n - 1) + find_lucas(n - 2)', 'def add_string(my_list, string):\\n    return [string.format(i) for i in my_list]', 'def convert_list_dictionary(l1, l2, l3):\\n    return [{x: {y: z}} for x, y, z in zip(l1, l2, l3)]', ['def get_max_sum(n):\\n    res = [0] * (n + 1)\\n    res[0] = 0\\n    res[1] = 1\\n    for i in range(2, n + 1):\\n        res[i] = max(i, res[i // 2] + res[i // 3] + res[i // 4] + res[i // 5])\\n    return res[n]\\n\\n'], ['def max_length_list(input_list):\\n    return max(input_list, key=len)\\n\\n'], 'def check_distinct(test_tup):\\n    return len(set(test_tup)) == len(test_tup)', 'def first_non_repeating_character(str1):\\n    char_order = []\\n    ctr = {}\\n    for c in str1:\\n        if c in ctr:\\n            ctr[c] += 1\\n        else:\\n            ctr[c] = 1\\n            char_order.append(c)\\n\\n    for c in char_order:\\n        if ctr[c] == 1:\\n            return c\\n\\n    return None', 'import re\\n\\ndef check_char(string):\\n    pattern = r\\'^[a-z]$|^([a-z]).*\\\\1$\\'\\n    return \"Valid\" if re.search(pattern, string) else \"Invalid\"', ['def median_numbers(a, b, c):\\n    median = sorted([a, b, c])[1]\\n    return median\\n'], ['def sum_of_digits(nums):\\n    return sum(int(digit) for num in nums for digit in str(num) if digit.isdigit())\\n\\n'], 'def bitwise_xor(test_tup1, test_tup2):\\n    return tuple(ele1 ^ ele2 for ele1, ele2 in zip(test_tup1, test_tup2))', ['def extract_freq(test_list):\\n    unique_tuples = set()\\n    for sub in test_list:\\n        unique_tuples.add(tuple(sorted(sub)))\\n    return len(unique_tuples)\\n\\n'], 'def add_nested_tuples(test_tup1, test_tup2):\\n    return tuple(tuple(a + b for a, b in zip(tup1, tup2))\\n                 for tup1, tup2 in zip(test_tup1, test_tup2))', 'def ncr_modp(n, r, p):\\n    # Initialize the result array\\n    result = [0] * (r + 1)\\n    result[0] = 1\\n\\n    # Compute the value of ncr%p\\n    for i in range(1, n + 1):\\n        for j in range(min(i, r), 0, -1):\\n            result[j] = (result[j] + result[j - 1]) % p\\n\\n    return result[r]', 'import re\\n\\ndef is_valid_url(url):\\n    if not url:\\n        return False\\n    regex = r\"^https?://\"\\n    p = re.compile(regex)\\n    return bool(re.search(p, url))', ['def minimum(a, b):\\n    return min(a, b)\\n\\n'], 'def check_tuplex(tuplex, tuple1):\\n    return tuple1 in tuplex', 'def find_parity(x):\\n    y = x ^ (x >> 1)\\n    y = y ^ (y >> 2)\\n    y = y ^ (y >> 4)\\n    y = y ^ (y >> 8)\\n    y = y ^ (y >> 16)\\n    if y & 1:\\n        return \"Odd Parity\"\\n    return \"Even Parity\"', ['def rearrange_bigger(n):\\n    nums = list(str(n))\\n    for i in range(len(nums)-2,-1,-1):\\n        if nums[i] < nums[i+1]:\\n            z = nums[i:]\\n            y = min(filter(lambda x: x > z[0], z))\\n            z.remove(y)\\n            z.sort()\\n            nums[i:] = [y] + z\\n            return int(\"\".join(nums))\\n    return False\\n\\n'], ['def k_smallest_pairs(nums1, nums2, k):\\n    queue = []\\n    for i in range(len(nums1)):\\n        for j in range(len(nums2)):\\n            heapq.heappush(queue, [nums1[i] + nums2[j], i, j])\\n\\n    pairs = []\\n    while queue and len(pairs) < k:\\n        _, i, j = heapq.heappop(queue)\\n        pairs.append([nums1[i], nums2[j]])\\n        if j == 0:\\n            for j in range(len(nums2)):\\n'], ['def min_product_tuple(list1):\\n    return min(abs(x * y) for x, y in list1)\\n\\n'], ['def min_val(listval):\\n    return min(i for i in listval if isinstance(i, int))\\n\\n'], [\"def snake_to_camel(word):\\n    return re.sub(r'_([a-z])', lambda m: m.group(1).upper(), word)\\n\\n\"], ['def remove_odd(my_list):\\n    return [x for x in my_list if x % 2 == 0]\\n\\n'], ['def extract_nth_element(list1, n):\\n    return [x[n] for x in list1]\\n\\n'], ['def overlapping(list1, list2):\\n    return any(i in list2 for i in list1)\\n\\n'], ['def max_product(arr):\\n    if len(arr) < 2:\\n        return \"No pairs exist\"\\n\\n    x, y = arr[0], arr[1]\\n    for i in range(2, len(arr)):\\n        for j in range(i, len(arr)):\\n            if arr[i] * arr[j] > x * y:\\n                x = arr[i]\\n                y = arr[j]\\n\\n    return x, y\\n\\n'], 'def breakSum(n):\\n    dp = [0] * (n + 1)\\n    dp[0] = 0\\n    dp[1] = 1\\n    for i in range(2, n + 1):\\n        dp[i] = max(dp[int(i / 2)] + dp[int(i / 3)] + dp[int(i / 4)], i)\\n    return dp[n]', 'def group_tuples(input_list):\\n    out = {}\\n    for elem in input_list:\\n        try:\\n            out[elem[0]].extend(elem[1:])\\n        except KeyError:\\n            out[elem[0]] = list(elem)\\n    return [tuple(values) for values in out.values()]', 'def find_max_sublist(lst):\\n    return max(lst, key=len)', ['def round_and_sum(numbers):\\n    rounded_numbers = [round(num) for num in numbers]\\n    total_sum = sum(rounded_numbers)\\n    return total_sum * len(numbers)\\n\\n'], ['def cube_sum(n):\\n    return sum(i**3 for i in range(1, n + 1))\\n\\n'], \"def concatenate_tuple(test_tup):\\n    return '-'.join(str(ele) for ele in test_tup)\", 'def find_average_of_cubes(n):\\n    return round(sum(i**3 for i in range(1, n+1)) / n, 6)', ['def get_max_gold(gold, m, n):\\n    gold_table = [[0] * n for _ in range(m)]\\n    for col in range(n-1, -1, -1):\\n        for row in range(m):\\n            if col == n-1:\\n                right = 0\\n            else:\\n                right = gold_table[row][col+1]\\n            if row == 0 or col == n-1:\\n                right_up = 0\\n            else:\\n                right_up = gold_table[row-1][col+1]\\n            if row == m-1 or col == n-1:\\n                right_down = 0\\n            else:\\n'], 'def extract_rear(test_tuple):\\n    return [sub[-1] for sub in test_tuple]', 'def count_element_in_list(list1, x):\\n    return sum(1 for i in range(len(list1)) if x in list1[i])', ['def filter_odd_numbers(numbers):\\n    return [x for x in numbers if x % 2 != 0]\\n\\n'], [\"def change_date_format(dt):\\n    pattern = r'(\\\\d{4})-(\\\\d{1,2})-(\\\\d{1,2})'\\n    replacement = '\\\\\\\\3-\\\\\\\\2-\\\\\\\\1'\\n    return re.sub(pattern, replacement, dt)\\n\\n\"], ['def shell_sort(my_list):\\n    for gap in range(len(my_list) // 2, 0, -1):\\n        for i in range(gap, len(my_list)):\\n            current_item = my_list[i]\\n            j = i\\n            while j >= gap and my_list[j - gap] > current_item:\\n                my_list[j] = my_list[j - gap]\\n                j -= gap\\n            my_list[j] = current_item\\n\\n    return my_list\\n\\n'], 'def and_tuples(test_tup1, test_tup2):\\n    return tuple(ele1 & ele2 for ele1, ele2 in zip(test_tup1, test_tup2))', ['def parabola_directrix(a, b, c):\\n    return int((c - (b ** 2 + 1) * 4 * a))\\n\\n'], 'def common_element(list1, list2):\\n    return any(x in list2 for x in list1)', 'def median_trapezium(base1, base2, height):\\n    return 0.5 * (base1 + base2)', 'def check_greater(arr, number):\\n    arr.sort()\\n    return number > arr[-1]', 'import re\\n\\ndef text_match_one(text):\\n    pattern = r\"a(b+?)\"\\n    match = re.search(pattern, text)\\n    if match:\\n        return \"Found a match!\"\\n    else:\\n        return \"Not matched!\"', 'def last_digit(n):\\n    return n % 10', ['def neg_nos(list1):\\n    return [num for num in list1 if num < 0]\\n\\n'], \"def remove_odd(str1):\\n    return ''.join(str1[i] for i in range(0, len(str1), 2))\", 'def count_bidirectional(test_list):\\n    res = 0\\n    for idx in range(len(test_list)):\\n        for iidx in range(idx + 1, len(test_list)):\\n            if test_list[iidx][0] == test_list[idx][1] and test_list[idx][1] == test_list[iidx][0]:\\n                res += 1\\n    return str(res)', ['def multiple_to_single(L):\\n    return int(\"\".join(map(str, L)))\\n\\n'], 'import re\\n\\ndef find_adverb_position(text):\\n    adverbs = []\\n    for m in re.finditer(r\"\\\\w+ly\", text):\\n        adverbs.append((m.start(), m.end(), m.group(0)))\\n    return adverbs', ['def surface_area_cube(l):\\n    return 6 * l ** 2\\n\\n'], ['def positive_count(nums):\\n    count = 0\\n    for num in nums:\\n        if num > 0:\\n            count += 1\\n    return count / len(nums)\\n\\n'], \"def largest_neg(list1):\\n    return max(list1, key=lambda x: x if x < 0 else float('-inf'))\", 'def trim_tuple(test_list, k):\\n    return [tuple(ele[k:len(ele)-k]) for ele in test_list]', 'def index_multiplication(test_tup1, test_tup2):\\n    return tuple(tuple(a * b for a, b in zip(tup1, tup2))\\n                 for tup1, tup2 in zip(test_tup1, test_tup2))', 'from collections import Counter\\n\\ndef count_occurrence(tup, lst):\\n    return sum(item in lst for item in tup)', 'def cube_nums(nums):\\n    return [x**3 for x in nums]', ['def cal_sum(n):\\n    if n == 0:\\n        return 3\\n    if n == 1:\\n        return 3\\n    if n == 2:\\n        return 5\\n\\n    a, b, c = 3, 0, 2\\n    sum = 5\\n\\n    while n > 2:\\n        d = a + b\\n        sum += d\\n        a, b, c = b, c, d\\n        n -= 1\\n\\n    return sum[/code]\\n\\n'], \"def check_Triangle(x1, y1, x2, y2, x3, y3):\\n    a = (x1 * (y2 - y3) + x2 * (y3 - y1) + x3 * (y1 - y2))\\n    if a == 0:\\n        return 'No'\\n    else:\\n        return 'Yes'\", 'def extract_string(str_list, size):\\n    return [s for s in str_list if len(s) == size]', [\"def remove_whitespaces(text):\\n    return re.sub(r'\\\\s+', '', text)\\n\\n\"], 'def loss_amount(actual_cost, sale_amount):\\n    if sale_amount > actual_cost:\\n        return sale_amount - actual_cost\\n    else:\\n        return None', 'import math\\n\\ndef sum_of_even_factors(n):\\n    if n % 2 != 0:\\n        return 0\\n    res = 1\\n    for i in range(2, int(math.sqrt(n)) + 1):\\n        count = 0\\n        curr_sum = 1\\n        curr_term = 1\\n        while n % i == 0:\\n            count += 1\\n            n //= i\\n            if i == 2 and count == 1:\\n                curr_sum = 0\\n            curr_term *= i\\n            curr_sum += curr_term\\n        res *= curr_sum\\n    if n >= 2:\\n        res *= (1 + n)\\n    return res', 'import re\\n\\ndef text_match_wordz(text):\\n    pattern = r\"\\\\w*z.\\\\w*\"\\n    if re.search(pattern, text):\\n        return \"Found a match!\"\\n    else:\\n        return \"Not matched!\"', ['def check_monthnumb_number(monthnum2):\\n    return monthnum2 in [1, 3, 5, 7, 8, 10, 12]\\n\\n'], ['def reverse_string_list(string_list):\\n    return [s[::-1] for s in string_list]\\n\\n'], 'def find_min(lst):\\n    return min(lst, key=len)', ['def rectangle_area(length, breadth):\\n    return length * breadth\\n\\n'], [\"def remove_uppercase(str1):\\n    return re.sub('[A-Z]', '', str1)\\n\\n\"], 'def extract(lst):\\n    return [item[0] for item in lst]', ['def upper_ctr(s):\\n    return sum(1 for i in s if i.isupper())\\n\\n'], 'def combinations_list(my_list):\\n    if not my_list:\\n        return [[]]\\n    else:\\n        head, *tail = my_list\\n        return [[head]] + [[head, *sublist] for sublist in combinations_list(tail)]', 'def max_subarray_product(arr):\\n    max_so_far = 0\\n    max_ending_here = 1\\n    for i in range(len(arr)):\\n        if arr[i] > 0:\\n            max_ending_here *= arr[i]\\n        else:\\n            max_ending_here = max(max_ending_here * arr[i], 1)\\n        if max_so_far < max_ending_here:\\n            max_so_far = max_ending_here\\n    return max_so_far', ['def check_value(dict, n):\\n    return all(x == n for x in dict.values())\\n\\n'], 'def drop_empty(dict1):\\n    return {key: value for key, value in dict1.items() if value is not None}', 'def find_peak(arr):\\n    \"\"\"\\n    Find the peak element in the given array.\\n\\n    Args:\\n        arr (list): The input array.\\n\\n    Returns:\\n        int: The index of the peak element.\\n    \"\"\"\\n    # Find the peak element using the divide and conquer approach\\n    low = 0\\n    high = len(arr) - 1\\n    while low < high:\\n        mid = (low + high) // 2\\n        if arr[mid] > arr[mid + 1]:\\n            high = mid\\n        else:\\n            low = mid + 1\\n    return low', 'def decimal_to_Octal(deciNum):\\n    octalNum = 0\\n    while deciNum > 0:\\n        octalNum = octalNum * 10 + deciNum % 8\\n        deciNum //= 8\\n    return octalNum', ['def max_product(arr, n):\\n    mpis = [0] * (n)\\n    for i in range(n):\\n        mpis[i] = arr[i]\\n    for i in range(1, n):\\n        for j in range(i):\\n            if (arr[i] > arr[j] and\\n                    mpis[i] < (mpis[j] * arr[i])):\\n                mpis[i] = mpis[j] * arr[i]\\n'], ['def max_profit(price, k):\\n    n = len(price)\\n    final_profit = [[None for x in range(n)] for y in range(k + 1)]\\n    for i in range(k + 1):\\n        for j in range(n):\\n            if i == 0 or j == 0:\\n                final_profit[i][j] = 0\\n            else:\\n                max_so_far = 0\\n                for x in range(j):\\n                    curr_price = price[j] - price[x] + final_profit[i-1][x]\\n                    if max_so_far < curr_price:\\n                        max_so_far = curr_price\\n'], 'def add_pairwise(test_tup):\\n    return tuple(i + j for i, j in zip(test_tup, test_tup[1:]))', 'def find_remainder(arr, lens, n):\\n    mul = 1\\n    for i in range(lens):\\n        mul = (mul * (arr[i] % n)) % n\\n    return mul % n', 'def check_consecutive(l):\\n    return sorted(l) == list(range(min(l), max(l) + 1))', ['def tuple_intersection(test_list1, test_list2):\\n    return set(test_list1).intersection(test_list2)\\n\\n'], 'def replace_char(str1, ch, newch):\\n    return str1.replace(ch, newch)', 'from collections import Counter\\n\\ndef sort_counter(dict1):\\n    counter = Counter(dict1)\\n    return counter.most_common()', ['def big_sum(nums):\\n    return max(nums) + min(nums)\\n\\n'], 'def is_lower(string):\\n    return string.lower() == string', \"import re\\n\\ndef remove_lowercase(str1):\\n    return re.sub('[a-z]', '', str1)\", 'def first_digit(n):\\n    return int(str(n)[0])', [\"def get_max_occuring_char(str1):\\n    char_count = {}\\n    for char in str1:\\n        if char in char_count:\\n            char_count[char] += 1\\n        else:\\n            char_count[char] = 1\\n\\n    max_count = -1\\n    max_char = ''\\n    for char, count in char_count.items():\\n        if count > max_count:\\n            max_count = count\\n            max_char = char\\n\\n    return max_char\\n\\n\"], ['def is_subset_sum(set, n, sum):\\n    # Base case: if the sum is 0, return True\\n    if sum == 0:\\n        return True\\n    \\n    # Base case: if the set is empty, return False\\n    if n == 0:\\n        return False\\n    \\n    # Recursive case: if the current element is greater than the sum, recurse with the same sum and the previous set\\n    if set[n - 1] > sum:\\n        return is_subset_sum(set, n - 1, sum)\\n    \\n    # Recursive case: if the current element is less than or equal to the sum, recurse with the sum minus the current element and the previous set, or with the same set and the previous element minus 1\\n'], 'import re\\n\\ndef match(text):\\n    pattern = r\"[A-Z][a-z]+\"\\n    return \"Yes\" if re.search(pattern, text) else \"No\"', 'def first_factorial_divisible_number(x):\\n    for i in range(1, x + 1):\\n        if i == 1:\\n            fact = 1\\n        else:\\n            fact = i * fact\\n        if fact % x == 0:\\n            return i\\n    return None', 'def remove_matching_tuple(test_list1, test_list2):\\n    return [sub for sub in test_list1 if sub not in test_list2]', 'def largest_palindrome(A):\\n    A.sort()\\n    for i in range(len(A) - 1, -1, -1):\\n        if is_palindrome(A[i]):\\n            return A[i]\\n    return -1', 'def binomial_probability(n, k, p):\\n    return (nCr(n, k) * pow(p, k) * pow(1 - p, n - k))\\n\\ndef nCr(n, r):\\n    if r > n / 2:\\n        r = n - r\\n    answer = 1\\n    for i in range(1, r + 1):\\n        answer *= (n - r + i)\\n        answer /= i\\n    return answer', 'def sort_tuple(tup):\\n    return sorted(tup, key=lambda x: x[-1])', ['def area_pentagon(a):\\n    return (math.sqrt(5) * a ** 2) / 4.0\\n\\n'], 'def frequency_of_largest(arr):\\n    largest = max(arr)\\n    frequency = 0\\n    for i in range(len(arr)):\\n        if arr[i] == largest:\\n            frequency += 1\\n    return frequency', 'def extract_symmetric(test_list):\\n    symmetric_pairs = set()\\n    for a, b in test_list:\\n        if a == b:\\n            symmetric_pairs.add((a, b))\\n    return symmetric_pairs', 'import math\\n\\ndef sum_gp(a, n, r):\\n    return (a * (1 - math.pow(r, n))) / (1 - r)', ['def binary_search(item_list, item):\\n    first = 0\\n    last = len(item_list) - 1\\n    found = False\\n    while first <= last and not found:\\n        mid = (first + last) // 2\\n        if item_list[mid] == item:\\n            found = True\\n        else:\\n            if item < item_list[mid]:\\n                last = mid - 1\\n            else:\\n                first = mid + 1\\n    return found\\n\\n'], ['def calculate_polygons(startx, starty, endx, endy, radius):\\n    sl = (2 * radius) * math.tan(math.pi / 6)\\n    p = sl * 0.5\\n    b = sl * math.cos(math.radians(30))\\n    w = b * 2\\n    h = 2 * sl\\n\\n    startx = startx - w\\n    starty = starty - h\\n    endx = endx + w\\n    endy = endy + h\\n\\n    origx = startx\\n    origy = starty\\n    xoffset = b\\n    yoffset = 3 * p\\n\\n    polygons = []\\n    row = 1\\n    counter = 0\\n'], 'def binary_to_integer(test_tup):\\n    return int(\"\".join(str(ele) for ele in test_tup), 2)', [\"def remove_lowercase(str1):\\n    return re.sub('[a-z]', '', str1)\\n\\n\"], ['def find_smallest_integers(numbers, k):\\n    \"\"\"\\n    Find the k smallest integers in a list of numbers using the heap queue algorithm.\\n    \"\"\"\\n    # Create a min heap of size k\\n    min_heap = hq.heapify(numbers[:k])\\n\\n    # Iterate through the remaining numbers\\n    for i in range(k, len(numbers)):\\n        # Add the current number to the min heap\\n        hq.heappush(min_heap, numbers[i])\\n\\n        # If the min heap size is greater than k, remove the smallest number\\n        if len(min_heap) > k:\\n            hq.heappop(min_heap)\\n\\n'], ['def surface_area_cone(r, h):\\n    l = math.sqrt(r**2 + h**2)\\n    return math.pi * r * (r + l)\\n\\n'], 'def gcd(x, y):\\n    if x == 0:\\n        return y\\n    if y == 0:\\n        return x\\n    if x > y:\\n        return gcd(x - y, y)\\n    else:\\n        return gcd(x, y - x)', ['def diameter_circle(r):\\n'], \"def concatenate_elements(my_list):\\n    return ' '.join(my_list)\", 'def num_comm_div(x, y):\\n    n = ngcd(x, y)\\n    result = 0\\n    for i in range(1, int(n ** 0.5) + 1):\\n        if n % i == 0:\\n            result += 2\\n            if i == n / i:\\n                result -= 1\\n    return result', ['def find_remainder(n, m):\\n    return n % m\\n\\n'], ['def add_consecutive_nums(nums):\\n    return [b + a for a, b in zip(nums[:-1], nums[1:])]\\n\\n'], ['def sum_of_series(n):\\n    return sum(i**3 for i in range(1, n + 1))\\n\\n'], ['def re_order(A):\\n    non_zero_indices = [i for i, x in enumerate(A) if x != 0]\\n    zero_indices = [i for i, x in enumerate(A) if x == 0]\\n    for i in range(len(A)):\\n        if i in non_zero_indices:\\n            A[i] = A[i]\\n        elif i in zero_indices:\\n            A[i] = 0\\n    return A\\n\\n'], 'def permutation_coefficient(n, k):\\n    P = [[0] * (k + 1) for _ in range(n + 1)]\\n    for i in range(n + 1):\\n        for j in range(min(i, k) + 1):\\n            if j == 0:\\n                P[i][j] = 1\\n            else:\\n                P[i][j] = P[i - 1][j] + (j * P[i - 1][j - 1])\\n            if j < k:\\n                P[i][j + 1] = 0\\n    return P[n][k]', 'def remove_words(list1, removewords):\\n    return [word for word in list1 if word not in removewords]', 'def same_order(l1, l2):\\n    common_elements = set(l1).intersection(l2)\\n    return l1 == list(common_elements) and l2 == list(common_elements)', 'def average_Odd(n):\\n    if n % 2 == 0:\\n        return \"Invalid Input\"\\n        return -1\\n    sum = 0\\n    count = 0\\n    while n >= 1:\\n        count += 1\\n        sum += n\\n        n -= 2\\n    return sum // count', 'def no_of_subsequences(arr, k):\\n    n = len(arr)\\n    dp = [[0] * (n + 1) for _ in range(k + 1)]\\n    for i in range(1, k + 1):\\n        for j in range(1, n + 1):\\n            if arr[j - 1] <= i and arr[j - 1] > 0:\\n                dp[i][j] = dp[i][j - 1] + dp[i // arr[j - 1]][j - 1] + 1\\n    return dp[k][n]']\n"
          ]
        }
      ]
    },
    {
      "cell_type": "code",
      "source": [
        "for elem in mbpp_snippets:\n",
        "  if elem == '':\n",
        "    print('1')"
      ],
      "metadata": {
        "id": "wNhAIvMeOI5g"
      },
      "execution_count": null,
      "outputs": []
    },
    {
      "cell_type": "markdown",
      "metadata": {
        "id": "gNuUsVCsN-q4"
      },
      "source": [
        "# Modelling (DEPRECATED)\n"
      ]
    },
    {
      "cell_type": "code",
      "execution_count": null,
      "metadata": {
        "id": "prLdaIqZff4L"
      },
      "outputs": [],
      "source": [
        "modelpath = \"codellama/CodeLlama-7b-Instruct-hf\"\n",
        "# model = AutoModelForCausalLM.from_pretrained(\n",
        "#     base_model,\n",
        "#     load_in_8bit=True,\n",
        "#     torch_dtype=torch.float16,\n",
        "#     device_map=\"auto\",\n",
        "# )\n",
        "# tokenizer = AutoTokenizer.from_pretrained(\"codellama/CodeLlama-7b-Python-hf\")\n",
        "\n",
        "# Load 4-bit quantized model\n",
        "model = AutoModelForCausalLM.from_pretrained(\n",
        "    modelpath,\n",
        "    device_map=\"auto\",\n",
        "    quantization_config=BitsAndBytesConfig(\n",
        "        load_in_4bit=True,\n",
        "        bnb_4bit_compute_dtype=torch.bfloat16,\n",
        "        bnb_4bit_quant_type=\"nf4\",\n",
        "    ),\n",
        "    torch_dtype=torch.bfloat16,\n",
        ")\n",
        "\n",
        "# Load (slow) Tokenizer, fast tokenizer sometimes ignores added tokens\n",
        "tokenizer = AutoTokenizer.from_pretrained(modelpath, use_fast=False)\n",
        "\n",
        "# Add tokens <|im_start|> and <|im_end|>, latter is special eos token\n",
        "tokenizer.pad_token = \"</s>\"\n",
        "tokenizer.add_tokens([\"<|im_start|>\"])\n",
        "tokenizer.add_special_tokens(dict(eos_token=\"<|im_end|>\"))\n",
        "model.resize_token_embeddings(len(tokenizer))\n",
        "model.config.eos_token_id = tokenizer.eos_token_id"
      ]
    },
    {
      "cell_type": "code",
      "source": [
        "# Add LoRA adapters to model\n",
        "base_model = model\n",
        "model = prepare_model_for_kbit_training(model)\n",
        "config = LoraConfig(\n",
        "    r=64,\n",
        "    lora_alpha=16,\n",
        "    target_modules = ['q_proj', 'k_proj', 'down_proj', 'v_proj', 'gate_proj', 'o_proj', 'up_proj'],\n",
        "    lora_dropout=0.1,\n",
        "    bias=\"none\",\n",
        "    modules_to_save = [\"lm_head\", \"embed_tokens\"],\n",
        "    task_type=\"CAUSAL_LM\"\n",
        ")\n",
        "model = get_peft_model(model, config).to('cuda')\n",
        "model.config.use_cache = False"
      ],
      "metadata": {
        "id": "KBu2kjivm7uT"
      },
      "execution_count": null,
      "outputs": []
    },
    {
      "cell_type": "markdown",
      "source": [
        "# Prompting (DEPRECATED)"
      ],
      "metadata": {
        "id": "eIuk1oqFnXc1"
      }
    },
    {
      "cell_type": "code",
      "source": [
        "model = model.to('cuda')\n",
        "\n",
        "# https://huggingface.co/blog/codellama#conversational-instructionshttps://huggingface.co/blog/codellama#conversational-instructions\n",
        "\n",
        "prompt = system_instruction + '\\n\\n\\n' + mbpp[\"train\"][0]['code']\n",
        "prompt = system_instruction + '\\n\\n\\n' + humaneval['test']['canonical_solution'][0]\n",
        "\n",
        "prompt = \"Write a python function to generate the fibonacci series.\"\n",
        "# for key, value in mbpp[\"train\"][0].items():\n",
        "#   print(key,value, '\\n')\n",
        "print(prompt)\n",
        "# PYTORCH_CUDA_ALLOC_CONF=expandable_segments:True\n",
        "\n",
        "# input = tokenizer([prompt], return_tensors=\"pt\").to(\"cuda\")\n",
        "print('\\n\\nGENERATING\\n\\n\\n\\n')\n",
        "model_inputs = tokenizer([prompt], return_tensors=\"pt\", padding=True).to(\"cuda\")\n",
        "start = time.time()\n",
        "generated_ids = model.generate(**model_inputs, max_new_tokens=1024)\n",
        "print(\"time: \", time.time()- start)\n",
        "output = tokenizer.batch_decode(generated_ids, skip_special_tokens=True)\n",
        "print(output[0].rstrip())"
      ],
      "metadata": {
        "id": "qP7jVMTdnZRr"
      },
      "execution_count": null,
      "outputs": []
    },
    {
      "cell_type": "code",
      "source": [
        "def append_to_json(file_path, new_data):\n",
        "    # Try to read existing data, if file doesn't exist, start with an empty list\n",
        "    try:\n",
        "        with open(file_path, 'r') as file:\n",
        "            data = json.load(file)\n",
        "    except FileNotFoundError:\n",
        "        data = []\n",
        "\n",
        "    # Append new data (single or multiple)\n",
        "    if isinstance(new_data, list):\n",
        "        data.extend(new_data)\n",
        "    else:\n",
        "        data.append(new_data)\n",
        "\n",
        "    # Write the updated data back to the file\n",
        "    with open(file_path, 'w') as file:\n",
        "        json.dump(data, file, indent=4)"
      ],
      "metadata": {
        "id": "SZ0Lah-So22e"
      },
      "execution_count": null,
      "outputs": []
    },
    {
      "cell_type": "code",
      "source": [
        "file_path = 'llama_mbpp.json'\n",
        "\n",
        "for mult in range(10):\n",
        "  prompts = []\n",
        "\n",
        "  for num in range(1,11):\n",
        "    prompt = system_instruction + '\\n\\nCode:\\n\\n' + mbpp[\"train\"][num*mult]['code']\n",
        "    prompts.append(prompt)\n",
        "\n",
        "  model_inputs = tokenizer(prompts, return_tensors=\"pt\", padding=True).to(\"cuda\")\n",
        "  generated_ids = model.generate(**model_inputs, max_new_tokens=512)\n",
        "  outputs = tokenizer.batch_decode(generated_ids, skip_special_tokens=True)\n",
        "  print(outputs)\n",
        "  data = [{'mbpp_num': (num+1)*mult, 'output': out} for num,out in enumerate(outputs)]\n",
        "\n",
        "  append_to_json(file_path, data)\n"
      ],
      "metadata": {
        "id": "Fdb6oi1GxNBI"
      },
      "execution_count": null,
      "outputs": []
    },
    {
      "cell_type": "code",
      "source": [],
      "metadata": {
        "id": "682anNlzytvw"
      },
      "execution_count": null,
      "outputs": []
    }
  ],
  "metadata": {
    "colab": {
      "provenance": [],
      "collapsed_sections": [
        "FcKJlcCkN192",
        "__597K7LKa-C",
        "eSCIxUm-JKRg"
      ]
    },
    "kernelspec": {
      "display_name": "Python 3",
      "name": "python3"
    },
    "language_info": {
      "name": "python"
    }
  },
  "nbformat": 4,
  "nbformat_minor": 0
}